{
 "cells": [
  {
   "cell_type": "code",
   "execution_count": 2,
   "id": "45b73da1",
   "metadata": {},
   "outputs": [],
   "source": [
    "###############################################\n",
    "##ICM316 Python Group Project Master Code File \n",
    "## Kapil Kumar, Gauri Sahu, Wei Hu\n",
    "################################################\n"
   ]
  },
  {
   "cell_type": "code",
   "execution_count": 1,
   "id": "cc440373",
   "metadata": {},
   "outputs": [],
   "source": [
    "import requests\n",
    "import json\n",
    "import os\n",
    "import yfinance as yf\n",
    "from datetime import datetime\n",
    "import sqlite3\n",
    "import pandas as pd\n",
    "import datetime as dt\n",
    "import matplotlib.pyplot as plt\n",
    "import sys\n",
    "import time\n",
    "import glob\n",
    "import re\n",
    "\n"
   ]
  },
  {
   "cell_type": "code",
   "execution_count": 2,
   "id": "581417b6",
   "metadata": {},
   "outputs": [],
   "source": [
    "#Tasks 1-4\n",
    "#Initialize Directory Structure and URL Paths \n",
    "company_tickers_url = 'https://www.sec.gov/files/company_tickers.json'\n",
    "\n",
    "# Change this to your local path but keep the following folder strcuture intact \n",
    "#base_local_path = r'/Users/kapildevarsh/Documents/Python Programming for Fintech/Python Group Project/Data/'\n",
    "base_local_path = r'/Users/kapildevarsh/Documents/Python Programming for Fintech/Python Group Project/Data11/'\n",
    "\n",
    "# Local Folder structure\n",
    "cik_tickers_mappingfile_path = base_local_path + 'MasterData'\n",
    "cik_tickers_edgarfilings_path = base_local_path + 'SECFilingsData'\n",
    "sql_database_path = base_local_path + 'SQL/'\n",
    "tickers_historicalData_path = base_local_path + 'StocksY2022DailyData'\n",
    "textual_analysis_path = base_local_path + 'TextualAnalysisData'\n",
    "### This is kept low to avoid overflowing the disk space but would be set to 200 (up to max 240) as is the project requirement.\n",
    "MAX_COMPANIES_COUNT = 2    \n",
    "### For Project Requirement set the value to 200. \n",
    "src_sample = base_local_path + 'Sample'\n",
    "# Mapping File\n",
    "json_master_mapping_file = 'Tickers_CIKs_Mapping_240.json'\n",
    "output_json_file = 'Tickers_CIKs_Mapping_240.json'\n",
    "\n",
    "#test_path = r'/Users/kapildevarsh/Documents/Python Programming for Fintech/Python Group Project/Data/Test'\n"
   ]
  },
  {
   "cell_type": "code",
   "execution_count": 3,
   "id": "69afa275",
   "metadata": {},
   "outputs": [],
   "source": [
    "def createfolder(folderpath):\n",
    "    if not os.path.exists(folderpath):\n",
    "        os.mkdir(folderpath)\n"
   ]
  },
  {
   "cell_type": "code",
   "execution_count": 4,
   "id": "5344c687",
   "metadata": {},
   "outputs": [],
   "source": [
    "# Create folders \n",
    "createfolder(cik_tickers_mappingfile_path)\n",
    "createfolder(cik_tickers_edgarfilings_path)\n",
    "createfolder(sql_database_path)\n",
    "createfolder(tickers_historicalData_path)\n",
    "createfolder(textual_analysis_path)\n",
    "#createfolder(test_path)\n"
   ]
  },
  {
   "cell_type": "code",
   "execution_count": 5,
   "id": "7fbbb831",
   "metadata": {},
   "outputs": [
    {
     "name": "stdout",
     "output_type": "stream",
     "text": [
      "/Users/kapildevarsh/Documents/Python Programming for Fintech/Python Group Project/Data11/MasterData\n"
     ]
    }
   ],
   "source": [
    "# Set the working directory\n",
    "\n",
    "os.chdir(cik_tickers_mappingfile_path)\n",
    "print (os.getcwd())"
   ]
  },
  {
   "cell_type": "code",
   "execution_count": 6,
   "id": "73032056",
   "metadata": {},
   "outputs": [],
   "source": [
    "heads = {'User-Agent': 'Mozilla/5.0 (Windows NT 10.0; Win64; x64) AppleWebKit/537.36 (KHTML, like Gecko) Chrome/80.0.3987.163 Safari/537.36',\n",
    "         'Accept-Encoding': 'application/json, text/javascript, */*; q=0.01', 'X-Requested-With': 'XMLHttpRequest',\n",
    "         'Host': 'www.sec.gov'\n",
    "         }\n",
    "\n"
   ]
  },
  {
   "cell_type": "code",
   "execution_count": 7,
   "id": "1bbb2dd0",
   "metadata": {},
   "outputs": [],
   "source": [
    "def create_mapping_file(input_json_file, output_json_file, max_count):\n",
    "    try:\n",
    "        # Read data from the JSON file\n",
    "        with open(input_json_file, 'r', encoding='utf-8') as file:\n",
    "            data = json.load(file)\n",
    "\n",
    "        # Iterate through each entry\n",
    "\n",
    "        cik_list = []  \n",
    "        count = 0\n",
    "        for entry in data.values():\n",
    "            # Iterating and adding dictionary\n",
    "            if(count<max_count):\n",
    "                count+=1\n",
    "                cik_list.append(entry)\n",
    "                  \n",
    "        \n",
    "        with open(output_json_file, 'w', encoding='utf-8') as file:\n",
    "            json.dump(cik_list, file, ensure_ascii=False, indent=2)\n",
    "\n",
    "    except FileNotFoundError:\n",
    "        print(f\"Error: JSON file '{json_file}' not found.\")\n",
    "    except json.JSONDecodeError as e:\n",
    "        print(f\"Error decoding JSON from '{json_file}': {e}\")\n",
    "    except Exception as e:\n",
    "        print(f\"An unexpected error occurred: {e}\")"
   ]
  },
  {
   "cell_type": "code",
   "execution_count": 8,
   "id": "d90a9a52",
   "metadata": {},
   "outputs": [],
   "source": [
    "#Download the raw json file\n",
    "request_content = requests.get(company_tickers_url, headers=heads).content\n",
    "result = request_content.decode(\"utf-8\", \"ignore\")\n",
    "\n",
    "# Replace with the actual path to your JSON file\n",
    "input_json_file  = 'Ticker_CIK_Mapping_Raw.json'\n",
    "output_json_file  = 'Tickers_CIKs_Mapping_240.json'\n",
    "with open(input_json_file,'w') as f:\n",
    "    f.write(result)\n",
    "max_count = 240\n",
    "cik_list = []\n",
    "\n",
    "#Create the filtered json - Mapping file\n",
    "create_mapping_file(input_json_file,output_json_file , max_count)"
   ]
  },
  {
   "cell_type": "code",
   "execution_count": 9,
   "id": "0e43b48d",
   "metadata": {},
   "outputs": [],
   "source": [
    "#Download SEC Master Index Files - Edgar\n",
    "def download_edgar_masterindex_file(quarter_number):\n",
    "    \n",
    "    \n",
    "    # type your email address in the blank\n",
    "    heads = {'User-Agent': 'University of Reading rq828299@student.reading.ac.uk',\n",
    "         'Accept-Encoding': '*',\n",
    "         'Host': 'www.sec.gov'}\n",
    "    \n",
    "    #url = r\"https://www.sec.gov/Archives/edgar/full-index/2022/QTR1/master.idx\"\n",
    "    \n",
    "    baseurl = r\"https://www.sec.gov/Archives/edgar/full-index/2022/QTR\"\n",
    "    downloadurl = baseurl + str(quarter_number) + '/master.idx'\n",
    "    outputurl = 'master_index_2022_QTR' + str(quarter_number) +  '.txt'\n",
    "    \n",
    "    print(downloadurl)\n",
    "    \n",
    "    \n",
    "    request_content = requests.get(downloadurl, headers = heads).content\n",
    "    result = request_content.decode(\"utf-8\", \"ignore\")\n",
    "    with open(outputurl,'w') as f:\n",
    "        f.write(result)\n",
    " \n",
    "\n"
   ]
  },
  {
   "cell_type": "code",
   "execution_count": 10,
   "id": "63c8553d",
   "metadata": {},
   "outputs": [
    {
     "name": "stdout",
     "output_type": "stream",
     "text": [
      "https://www.sec.gov/Archives/edgar/full-index/2022/QTR1/master.idx\n",
      "https://www.sec.gov/Archives/edgar/full-index/2022/QTR2/master.idx\n",
      "https://www.sec.gov/Archives/edgar/full-index/2022/QTR3/master.idx\n",
      "https://www.sec.gov/Archives/edgar/full-index/2022/QTR4/master.idx\n"
     ]
    }
   ],
   "source": [
    "#Download Master Index file for Y2022 - Q1,Q2,Q3 and Q4 \n",
    "for i in range(1,5):\n",
    "    download_edgar_masterindex_file(i)"
   ]
  },
  {
   "cell_type": "code",
   "execution_count": 11,
   "id": "e1ba0101",
   "metadata": {},
   "outputs": [
    {
     "name": "stdout",
     "output_type": "stream",
     "text": [
      "/Users/kapildevarsh/Documents/Python Programming for Fintech/Python Group Project/Data11/MasterData\n"
     ]
    }
   ],
   "source": [
    "print(os.getcwd())\n"
   ]
  },
  {
   "cell_type": "code",
   "execution_count": 12,
   "id": "d2811644",
   "metadata": {},
   "outputs": [],
   "source": [
    "def setcurrentfolder(path):\n",
    "    if(os.getcwd() != path):\n",
    "        os.chdir(path)\n",
    " "
   ]
  },
  {
   "cell_type": "code",
   "execution_count": 13,
   "id": "581802eb",
   "metadata": {},
   "outputs": [
    {
     "data": {
      "text/html": [
       "<div>\n",
       "<style scoped>\n",
       "    .dataframe tbody tr th:only-of-type {\n",
       "        vertical-align: middle;\n",
       "    }\n",
       "\n",
       "    .dataframe tbody tr th {\n",
       "        vertical-align: top;\n",
       "    }\n",
       "\n",
       "    .dataframe thead th {\n",
       "        text-align: right;\n",
       "    }\n",
       "</style>\n",
       "<table border=\"1\" class=\"dataframe\">\n",
       "  <thead>\n",
       "    <tr style=\"text-align: right;\">\n",
       "      <th></th>\n",
       "      <th>cik_str</th>\n",
       "      <th>ticker</th>\n",
       "      <th>title</th>\n",
       "    </tr>\n",
       "  </thead>\n",
       "  <tbody>\n",
       "    <tr>\n",
       "      <th>0</th>\n",
       "      <td>320193</td>\n",
       "      <td>AAPL</td>\n",
       "      <td>Apple Inc.</td>\n",
       "    </tr>\n",
       "    <tr>\n",
       "      <th>1</th>\n",
       "      <td>789019</td>\n",
       "      <td>MSFT</td>\n",
       "      <td>MICROSOFT CORP</td>\n",
       "    </tr>\n",
       "    <tr>\n",
       "      <th>2</th>\n",
       "      <td>1652044</td>\n",
       "      <td>GOOGL</td>\n",
       "      <td>Alphabet Inc.</td>\n",
       "    </tr>\n",
       "    <tr>\n",
       "      <th>3</th>\n",
       "      <td>1018724</td>\n",
       "      <td>AMZN</td>\n",
       "      <td>AMAZON COM INC</td>\n",
       "    </tr>\n",
       "    <tr>\n",
       "      <th>4</th>\n",
       "      <td>1045810</td>\n",
       "      <td>NVDA</td>\n",
       "      <td>NVIDIA CORP</td>\n",
       "    </tr>\n",
       "    <tr>\n",
       "      <th>...</th>\n",
       "      <td>...</td>\n",
       "      <td>...</td>\n",
       "      <td>...</td>\n",
       "    </tr>\n",
       "    <tr>\n",
       "      <th>235</th>\n",
       "      <td>702165</td>\n",
       "      <td>NSC</td>\n",
       "      <td>NORFOLK SOUTHERN CORP</td>\n",
       "    </tr>\n",
       "    <tr>\n",
       "      <th>236</th>\n",
       "      <td>1858681</td>\n",
       "      <td>APO</td>\n",
       "      <td>Apollo Global Management, Inc.</td>\n",
       "    </tr>\n",
       "    <tr>\n",
       "      <th>237</th>\n",
       "      <td>1947559</td>\n",
       "      <td>ANZGY</td>\n",
       "      <td>ANZ GROUP HOLDINGS LIMITED/ADR</td>\n",
       "    </tr>\n",
       "    <tr>\n",
       "      <th>238</th>\n",
       "      <td>1835632</td>\n",
       "      <td>MRVL</td>\n",
       "      <td>Marvell Technology, Inc.</td>\n",
       "    </tr>\n",
       "    <tr>\n",
       "      <th>239</th>\n",
       "      <td>797468</td>\n",
       "      <td>OXY</td>\n",
       "      <td>OCCIDENTAL PETROLEUM CORP /DE/</td>\n",
       "    </tr>\n",
       "  </tbody>\n",
       "</table>\n",
       "<p>240 rows × 3 columns</p>\n",
       "</div>"
      ],
      "text/plain": [
       "     cik_str ticker                           title\n",
       "0     320193   AAPL                      Apple Inc.\n",
       "1     789019   MSFT                  MICROSOFT CORP\n",
       "2    1652044  GOOGL                   Alphabet Inc.\n",
       "3    1018724   AMZN                  AMAZON COM INC\n",
       "4    1045810   NVDA                     NVIDIA CORP\n",
       "..       ...    ...                             ...\n",
       "235   702165    NSC           NORFOLK SOUTHERN CORP\n",
       "236  1858681    APO  Apollo Global Management, Inc.\n",
       "237  1947559  ANZGY  ANZ GROUP HOLDINGS LIMITED/ADR\n",
       "238  1835632   MRVL        Marvell Technology, Inc.\n",
       "239   797468    OXY  OCCIDENTAL PETROLEUM CORP /DE/\n",
       "\n",
       "[240 rows x 3 columns]"
      ]
     },
     "execution_count": 13,
     "metadata": {},
     "output_type": "execute_result"
    }
   ],
   "source": [
    "# read json file into memory\n",
    "\n",
    "setcurrentfolder(cik_tickers_mappingfile_path)\n",
    "df = pd.read_json(output_json_file)\n",
    "df"
   ]
  },
  {
   "cell_type": "code",
   "execution_count": 14,
   "id": "4200cd61",
   "metadata": {},
   "outputs": [],
   "source": [
    "def Read2022MasterIndexFile(qnumber):\n",
    "    master_index_DataFrame_2022Q = pd.DataFrame()\n",
    "    if(qnumber == 1):\n",
    "        location_masterindexfile_2022Q = 'master_index_2022_QTR1.txt'\n",
    "    elif(qnumber == 2):\n",
    "        location_masterindexfile_2022Q = 'master_index_2022_QTR2.txt'\n",
    "    elif(qnumber == 3):\n",
    "        location_masterindexfile_2022Q = 'master_index_2022_QTR3.txt'\n",
    "    elif(qnumber == 4):\n",
    "        location_masterindexfile_2022Q = 'master_index_2022_QTR4.txt'\n",
    "\n",
    "    with open(location_masterindexfile_2022Q,'r') as f:\n",
    "        lines = f.readlines()\n",
    "\n",
    "    records = [tuple(line.split('|')) for line in lines[12:len(lines)]]\n",
    "    data = [[r[0], r[1], r[2],r[3], r'https://www.sec.gov/Archives/'+ r[4]] for r in records]\n",
    "    master_index_DataFrame_2022Q = pd.DataFrame(data, columns = ['cik', 'firm','form', 'date', 'url'])\n",
    "    return master_index_DataFrame_2022Q"
   ]
  },
  {
   "cell_type": "code",
   "execution_count": 15,
   "id": "52c55f90",
   "metadata": {},
   "outputs": [],
   "source": [
    "heads = {'User-Agent': 'University of Reading rq828299@student.reading.ac.uk',\n",
    "         'Accept-Encoding': '*',\n",
    "         'Host': 'www.sec.gov'}"
   ]
  },
  {
   "cell_type": "code",
   "execution_count": 16,
   "id": "6c966abd",
   "metadata": {},
   "outputs": [],
   "source": [
    "def download_filingsdata_CIK(cik_num, qcount, df):\n",
    "    \n",
    "    \n",
    "    cikdf = pd.DataFrame(df, columns=['cik', 'firm', 'form', 'date', 'url'])\n",
    "    \n",
    "    cikdf = df[df['cik'] == str(cik_num)].copy()\n",
    "    \n",
    "    dframe = pd.DataFrame(columns=['cik', '2022Q', 'form', 'FilingFilePath', 'FilingDate'])\n",
    "    cik_list = []\n",
    "    qcount_list = []\n",
    "    form_list = []\n",
    "    filingFilePath_list = []\n",
    "    date_list = []\n",
    "    # iterate the new dataframe and download all filings data\n",
    "    for index, row in cikdf.iterrows():\n",
    "        cik = row['cik']\n",
    "        form = row['form']\n",
    "        firm = row['firm']  \n",
    "        date = row['date']\n",
    "        filing_url = row['url']\n",
    "        #print(cik, firm, form, date, filing_url)\n",
    "        request_content = requests.get(filing_url[:-1], headers=heads).content\n",
    "        # request content from SEC website\n",
    "        # decode content\n",
    "        result = request_content.decode(\"utf-8\", \"ignore\")\n",
    "        # specify filename to store the file\n",
    "        file_name = '{0}_{1}_{2}_{3}_{4}.txt'.format(cik, firm, form,date,filing_url[45: ]).replace('/', ' ')\n",
    "        # open a file and write in the data with result from the website\n",
    "        save_path = cik_tickers_edgarfilings_path\n",
    "        completeName = os.path.join(save_path, file_name)         \n",
    "        with open(completeName,'w') as f:\n",
    "            f.write(result)\n",
    "        \n",
    "        #Create list for cik\n",
    "        cik_list.append(cik)\n",
    "        qcount_list.append(qcount)\n",
    "        form_list.append(form)\n",
    "        filingFilePath_list.append(completeName)\n",
    "        date_list.append(date)\n",
    "        \n",
    "        \n",
    "    dframe = pd.DataFrame(\n",
    "    {\n",
    "     'cik': cik_list,\n",
    "     '2022Q': qcount_list,\n",
    "     'form': form_list,\n",
    "     'FilingFilePath': filingFilePath_list,\n",
    "     'FilingDate': date_list\n",
    "    }) \n",
    "    return dframe  \n"
   ]
  },
  {
   "cell_type": "code",
   "execution_count": 17,
   "id": "eb965071",
   "metadata": {},
   "outputs": [],
   "source": [
    "## Save data to SQLLite DB . Note this replaces the existing data in tables to avoid inconsistency and duplicate items.\n",
    "## It is recommended to dave data in one go rather than in batches, for the later pls use the append save\n",
    "def savetoDatabase(dataframe, database_table):\n",
    "    database = 'ICM316PythonGroupProject.db'\n",
    "    database_string = sql_database_path + database\n",
    "    sqlconnection_string = sqlite3.connect(database_string)\n",
    "    dataframe.to_sql(name=database_table,con=sqlconnection_string, if_exists='replace',index = False)\n",
    "    sqlconnection_string.commit()\n",
    "    sqlconnection_string.close()\n"
   ]
  },
  {
   "cell_type": "code",
   "execution_count": 18,
   "id": "05427c93",
   "metadata": {},
   "outputs": [],
   "source": [
    "def saveappendtoDatabase(dataframe, database_table):\n",
    "    database = 'ICM316PythonGroupProject.db'\n",
    "    database_string = sql_database_path + database\n",
    "    sqlconnection_string = sqlite3.connect(database_string)\n",
    "    dataframe.to_sql(name=database_table,con=sqlconnection_string, if_exists='append',index = False)\n",
    "    sqlconnection_string.commit()\n",
    "    sqlconnection_string.close()\n"
   ]
  },
  {
   "cell_type": "code",
   "execution_count": 19,
   "id": "a030a44b",
   "metadata": {},
   "outputs": [
    {
     "name": "stderr",
     "output_type": "stream",
     "text": [
      "/var/folders/4h/vrjz7r7j1n59jzbgtr1k58tr0000gn/T/ipykernel_49119/1924278297.py:12: FutureWarning: The frame.append method is deprecated and will be removed from pandas in a future version. Use pandas.concat instead.\n",
      "  masterDataFrame01 = masterDataFrame01.append(dataf)\n",
      "/var/folders/4h/vrjz7r7j1n59jzbgtr1k58tr0000gn/T/ipykernel_49119/1924278297.py:12: FutureWarning: The frame.append method is deprecated and will be removed from pandas in a future version. Use pandas.concat instead.\n",
      "  masterDataFrame01 = masterDataFrame01.append(dataf)\n",
      "/var/folders/4h/vrjz7r7j1n59jzbgtr1k58tr0000gn/T/ipykernel_49119/1924278297.py:12: FutureWarning: The frame.append method is deprecated and will be removed from pandas in a future version. Use pandas.concat instead.\n",
      "  masterDataFrame01 = masterDataFrame01.append(dataf)\n",
      "/var/folders/4h/vrjz7r7j1n59jzbgtr1k58tr0000gn/T/ipykernel_49119/1924278297.py:12: FutureWarning: The frame.append method is deprecated and will be removed from pandas in a future version. Use pandas.concat instead.\n",
      "  masterDataFrame01 = masterDataFrame01.append(dataf)\n",
      "/var/folders/4h/vrjz7r7j1n59jzbgtr1k58tr0000gn/T/ipykernel_49119/1924278297.py:12: FutureWarning: The frame.append method is deprecated and will be removed from pandas in a future version. Use pandas.concat instead.\n",
      "  masterDataFrame01 = masterDataFrame01.append(dataf)\n",
      "/var/folders/4h/vrjz7r7j1n59jzbgtr1k58tr0000gn/T/ipykernel_49119/1924278297.py:12: FutureWarning: The frame.append method is deprecated and will be removed from pandas in a future version. Use pandas.concat instead.\n",
      "  masterDataFrame01 = masterDataFrame01.append(dataf)\n",
      "/var/folders/4h/vrjz7r7j1n59jzbgtr1k58tr0000gn/T/ipykernel_49119/1924278297.py:12: FutureWarning: The frame.append method is deprecated and will be removed from pandas in a future version. Use pandas.concat instead.\n",
      "  masterDataFrame01 = masterDataFrame01.append(dataf)\n",
      "/var/folders/4h/vrjz7r7j1n59jzbgtr1k58tr0000gn/T/ipykernel_49119/1924278297.py:12: FutureWarning: The frame.append method is deprecated and will be removed from pandas in a future version. Use pandas.concat instead.\n",
      "  masterDataFrame01 = masterDataFrame01.append(dataf)\n"
     ]
    }
   ],
   "source": [
    "# Download All SEC Edgar Filings Data - 2022Q1-Q4 and load Data frame in memory \n",
    "\n",
    "masterDataFrame01 = pd.DataFrame(columns=['cik', '2022Q', 'form', 'FilingFilePath', 'FilingDate'])\n",
    "\n",
    "\n",
    "for qcount in range(1,5):\n",
    "  count = 1  \n",
    "  masterindex2022QDataFrame = Read2022MasterIndexFile(qcount)\n",
    "  for cik in df['cik_str'] :\n",
    "     if(count<=MAX_COMPANIES_COUNT):\n",
    "        dataf = download_filingsdata_CIK(cik, qcount, masterindex2022QDataFrame)\n",
    "        masterDataFrame01 = masterDataFrame01.append(dataf)\n",
    "        count+=1\n",
    "        \n"
   ]
  },
  {
   "cell_type": "code",
   "execution_count": 20,
   "id": "2fdd8869",
   "metadata": {},
   "outputs": [],
   "source": [
    "# Save Edgar Dataframe to Database\n",
    "savetoDatabase(masterDataFrame01, 'EdgarSECFilings')\n"
   ]
  },
  {
   "cell_type": "code",
   "execution_count": 21,
   "id": "d3786981",
   "metadata": {},
   "outputs": [],
   "source": [
    "# Download Stock data from yahoo finance\n",
    "def downloadStockDailyhistoricaldata2022(ticker):\n",
    "    \n",
    "    data = yf.download(ticker, start='2022-01-01',end='2022-12-31')\n",
    "    return data"
   ]
  },
  {
   "cell_type": "code",
   "execution_count": 22,
   "id": "a64f139f",
   "metadata": {},
   "outputs": [],
   "source": [
    "# Download Stock Financial Annual (2022) data from yahoo finance\n",
    "def downloadTickerAnnualFinancialData(symbol,year):\n",
    "    ticker = yf.Ticker(symbol)\n",
    " \n",
    "    # Get the fundamental data\n",
    "    bsdata = ticker.balance_sheet\n",
    "    bsdata = bsdata.loc[['Total Assets','Total Debt']]\n",
    "    bsdata = bsdata.T\n",
    "    bsdata['year'] = bsdata.index.year\n",
    "    #print( bsdata.index.year)\n",
    "    \n",
    "    isdata = ticker.income_stmt\n",
    "    isdata = isdata.loc[['Gross Profit','Total Revenue', 'Cost Of Revenue', 'Net Income', 'EBITDA', 'Basic EPS']]\n",
    "    isdata = isdata.T\n",
    "    isdata['year'] = isdata.index.year\n",
    "    #print( isdata['year'] )\n",
    "    \n",
    "    financialdata= pd.merge(bsdata,isdata,on='year')\n",
    "    financialdata['ticker'] = symbol\n",
    "    \n",
    "    return financialdata[financialdata['year'] == year ]"
   ]
  },
  {
   "cell_type": "code",
   "execution_count": 23,
   "id": "9f196dfa",
   "metadata": {},
   "outputs": [
    {
     "name": "stdout",
     "output_type": "stream",
     "text": [
      "[*********************100%%**********************]  1 of 1 completed\n",
      "[*********************100%%**********************]  1 of 1 completed"
     ]
    },
    {
     "name": "stderr",
     "output_type": "stream",
     "text": [
      "/var/folders/4h/vrjz7r7j1n59jzbgtr1k58tr0000gn/T/ipykernel_49119/2290704594.py:28: FutureWarning: The frame.append method is deprecated and will be removed from pandas in a future version. Use pandas.concat instead.\n",
      "  masterDataFrame1 = masterDataFrame1.append(df1, ignore_index = True)\n",
      "/var/folders/4h/vrjz7r7j1n59jzbgtr1k58tr0000gn/T/ipykernel_49119/2290704594.py:29: FutureWarning: The frame.append method is deprecated and will be removed from pandas in a future version. Use pandas.concat instead.\n",
      "  masterDataFrame2 = masterDataFrame2.append(df2, ignore_index = True)\n"
     ]
    },
    {
     "name": "stdout",
     "output_type": "stream",
     "text": [
      "\n"
     ]
    },
    {
     "name": "stderr",
     "output_type": "stream",
     "text": [
      "/var/folders/4h/vrjz7r7j1n59jzbgtr1k58tr0000gn/T/ipykernel_49119/2290704594.py:28: FutureWarning: The frame.append method is deprecated and will be removed from pandas in a future version. Use pandas.concat instead.\n",
      "  masterDataFrame1 = masterDataFrame1.append(df1, ignore_index = True)\n",
      "/var/folders/4h/vrjz7r7j1n59jzbgtr1k58tr0000gn/T/ipykernel_49119/2290704594.py:29: FutureWarning: The frame.append method is deprecated and will be removed from pandas in a future version. Use pandas.concat instead.\n",
      "  masterDataFrame2 = masterDataFrame2.append(df2, ignore_index = True)\n"
     ]
    }
   ],
   "source": [
    "# Download All Stocks Historical and Financials Data - 2022Q1-Q4 and load merged Data in memory \n",
    "df = pd.read_json(json_master_mapping_file)\n",
    "df['ticker'] \n",
    "newpath=  tickers_historicalData_path  #r'/Users/kapildevarsh/Documents/Python Programming for Fintech/Python Group Project/Data/StocksY2022DailyData'\n",
    "os.chdir(newpath)\n",
    "count = 1\n",
    "masterDataFrame = pd.DataFrame(columns=['ticker', 'year', 'HistoricalStockDataFilePath', 'Total Assets','Total Debt','Gross Profit','Total Revenue', 'Cost Of Revenue', 'Net Income', 'EBITDA', 'Basic EPS'])\n",
    "\n",
    "masterDataFrame1 = pd.DataFrame(columns = ['ticker','HistoricalStockDataFilePath'])\n",
    "masterDataFrame2 = pd.DataFrame(columns = ['ticker', 'year', 'Total Assets','Total Debt','Gross Profit','Total Revenue', 'Cost Of Revenue', 'Net Income', 'EBITDA', 'Basic EPS'])\n",
    "\n",
    "\n",
    "for ticker in df['ticker'] :\n",
    "     if(count<=MAX_COMPANIES_COUNT):\n",
    "        dataf = downloadStockDailyhistoricaldata2022(ticker)\n",
    "        filename = ticker + '_2022_dailystockdata.csv'\n",
    "        dataf.to_csv(filename)\n",
    "        \n",
    "        completefilepath = newpath + '/' +  filename\n",
    "        df1 =  pd.DataFrame(columns = ['ticker','HistoricalStockDataFilePath'])\n",
    "        df1['ticker'] = [ticker]\n",
    "        df1['HistoricalStockDataFilePath'] = [completefilepath]\n",
    "        \n",
    "        df2 = downloadTickerAnnualFinancialData(ticker, 2022)\n",
    "        \n",
    "        #print(completefilepath)\n",
    "        \n",
    "        masterDataFrame1 = masterDataFrame1.append(df1, ignore_index = True)\n",
    "        masterDataFrame2 = masterDataFrame2.append(df2, ignore_index = True)\n",
    "        \n",
    "        \n",
    "        count+=1\n",
    "        \n",
    "masterDataFrame = masterDataFrame1.merge(masterDataFrame2,  on='ticker', how='outer')\n"
   ]
  },
  {
   "cell_type": "code",
   "execution_count": 24,
   "id": "a3e7bb8c",
   "metadata": {},
   "outputs": [],
   "source": [
    "#3. Create and Update DB Schema\n",
    "# Save Stock Financials Dataframe to Database\n",
    "savetoDatabase(masterDataFrame, 'StockFinancials')\n"
   ]
  },
  {
   "cell_type": "code",
   "execution_count": 25,
   "id": "5070fcb8",
   "metadata": {},
   "outputs": [],
   "source": [
    "# Read and Save Mappings Dataframe to Database\n",
    "setcurrentfolder(cik_tickers_mappingfile_path)\n",
    "mappingDataFrame = pd.read_json(output_json_file)\n",
    "\n",
    "savetoDatabase(mappingDataFrame, 'EdgarFilingsStockFinancials')"
   ]
  },
  {
   "cell_type": "code",
   "execution_count": 26,
   "id": "102b2dcf",
   "metadata": {},
   "outputs": [],
   "source": [
    "#3. Create and Update DB Schema\n",
    "def runSqlQueryDatabase(sql_query):\n",
    "    database = 'ICM316PythonGroupProject.db'\n",
    "    database_string = sql_database_path + database\n",
    "    sqlconnection = sqlite3.connect(database_string)\n",
    "    cursor = sqlconnection.cursor()\n",
    "    \n",
    "    result = cursor.execute(sql_query)\n",
    "    #print(result.description)   \n",
    "    sqlconnection.commit() \n",
    "    sqlconnection.close()\n",
    "   \n"
   ]
  },
  {
   "cell_type": "code",
   "execution_count": 27,
   "id": "95369ccc",
   "metadata": {},
   "outputs": [],
   "source": [
    "sqlquery = '''Create Table SEC10QFilingsTone    \n",
    "  (\n",
    "  ToneID INTEGER PRIMARY KEY AUTOINCREMENT,\n",
    "  cik TEXT NOT NULL, \n",
    "   QuarterNo INT NOT NULL, \n",
    "  Tone TEXT, \n",
    "  IsTonePositive BOOLEAN,\n",
    "  FOREIGN KEY(cik) REFERENCES EdgarSECFilings(cik)  \n",
    ");'''\n",
    "\n",
    "runSqlQueryDatabase(sqlquery)"
   ]
  },
  {
   "cell_type": "code",
   "execution_count": 28,
   "id": "86c0cbb8",
   "metadata": {},
   "outputs": [],
   "source": [
    "sqlquery = \"ALTER TABLE StockFinancials ADD 'AvgDailyReturn' REAL;\"\n",
    "runSqlQueryDatabase(sqlquery)"
   ]
  },
  {
   "cell_type": "code",
   "execution_count": 29,
   "id": "a2ade2e3",
   "metadata": {},
   "outputs": [],
   "source": [
    "sqlquery = \"ALTER TABLE StockFinancials ADD 'AvgDailyVolume' REAL;\"\n",
    "runSqlQueryDatabase(sqlquery)"
   ]
  },
  {
   "cell_type": "code",
   "execution_count": 30,
   "id": "71ce7abb",
   "metadata": {},
   "outputs": [],
   "source": [
    "sqlquery = \"ALTER TABLE SEC10QFilingsTone  ADD '%litigious' REAL;\"\n",
    "runSqlQueryDatabase(sqlquery)"
   ]
  },
  {
   "cell_type": "code",
   "execution_count": 31,
   "id": "77cf85a4",
   "metadata": {},
   "outputs": [],
   "source": [
    "sqlquery = \"ALTER TABLE SEC10QFilingsTone  ADD '%uncertianity' REAL;\"\n",
    "runSqlQueryDatabase(sqlquery)"
   ]
  },
  {
   "cell_type": "code",
   "execution_count": 32,
   "id": "9a310737",
   "metadata": {},
   "outputs": [],
   "source": [
    "sqlquery = \"ALTER TABLE SEC10QFilingsTone  ADD '%Negative' REAL;\"\n",
    "runSqlQueryDatabase(sqlquery)"
   ]
  },
  {
   "cell_type": "code",
   "execution_count": 33,
   "id": "cd99d2bc",
   "metadata": {},
   "outputs": [],
   "source": [
    "sqlquery = \"ALTER TABLE SEC10QFilingsTone  ADD '%Positive' REAL;\"\n",
    "runSqlQueryDatabase(sqlquery)"
   ]
  },
  {
   "cell_type": "code",
   "execution_count": 34,
   "id": "3d29d2ca",
   "metadata": {},
   "outputs": [],
   "source": [
    "sqlquery = \"ALTER TABLE SEC10QFilingsTone RENAME Tone TO 'OverallTone%';\"\n",
    "runSqlQueryDatabase(sqlquery)"
   ]
  },
  {
   "cell_type": "code",
   "execution_count": 35,
   "id": "3fc7dce5",
   "metadata": {},
   "outputs": [],
   "source": [
    "sqlquery = \"ALTER TABLE SEC10QFilingsTone  ADD 'SECFilingDate' Text;\"\n",
    "runSqlQueryDatabase(sqlquery)"
   ]
  },
  {
   "cell_type": "code",
   "execution_count": 36,
   "id": "00347bb2",
   "metadata": {},
   "outputs": [],
   "source": [
    "# sqlquery = \"ALTER TABLE SEC10QFilingsTone RENAME COLUMN cik_str TO cik;\"\n",
    "# runSqlQueryDatabase(sqlquery)"
   ]
  },
  {
   "cell_type": "code",
   "execution_count": 37,
   "id": "70e9b610",
   "metadata": {},
   "outputs": [],
   "source": [
    "sqlquery = \"ALTER TABLE EdgarFilingsStockFinancials RENAME COLUMN cik_str TO cik;\"\n",
    "runSqlQueryDatabase(sqlquery)"
   ]
  },
  {
   "cell_type": "code",
   "execution_count": 38,
   "id": "ecc49028",
   "metadata": {},
   "outputs": [],
   "source": [
    "sqlquery = \"ALTER TABLE EdgarSECFilings Rename '2022Q' to QuarterNo;\"\n",
    "runSqlQueryDatabase(sqlquery)"
   ]
  },
  {
   "cell_type": "code",
   "execution_count": 39,
   "id": "6af3d1f2",
   "metadata": {},
   "outputs": [],
   "source": [
    "sqlquery = \"CREATE UNIQUE INDEX idx_edgarstockfinancials_cik_ticker ON EdgarFilingsStockFinancials(cik,ticker);\"\n",
    "runSqlQueryDatabase(sqlquery)"
   ]
  },
  {
   "cell_type": "code",
   "execution_count": 40,
   "id": "2f3ac0c2",
   "metadata": {},
   "outputs": [],
   "source": [
    "sqlquery = \"CREATE INDEX idx_edgarsecfilings_cik_2022Q_form ON EdgarSECFilings (cik, QuarterNo, form);\"\n",
    "runSqlQueryDatabase(sqlquery)"
   ]
  },
  {
   "cell_type": "code",
   "execution_count": 41,
   "id": "116d1ef3",
   "metadata": {},
   "outputs": [],
   "source": [
    "sqlquery1 = \"CREATE INDEX idx_10QFilingsTone_cik_Q_tone ON SEC10QFilingsTone (cik, QuarterNo, IsTonePositive);\"\n",
    "sqlquery2 = \"CREATE UNIQUE INDEX idx_stockfinancials_ticker ON StockFinancials(ticker);\"\n",
    "runSqlQueryDatabase(sqlquery1)"
   ]
  },
  {
   "cell_type": "code",
   "execution_count": 42,
   "id": "3aeb125c",
   "metadata": {},
   "outputs": [],
   "source": [
    "runSqlQueryDatabase(sqlquery2)"
   ]
  },
  {
   "cell_type": "code",
   "execution_count": 43,
   "id": "f3ff9368",
   "metadata": {},
   "outputs": [],
   "source": [
    "def FetchSqlResultsDatabase(sql_query):\n",
    "    #print(sql_query)\n",
    "    database = 'ICM316PythonGroupProject.db'\n",
    "    database_string = sql_database_path + database\n",
    "    sqlconnection = sqlite3.connect(database_string)\n",
    "    sqlcommand = sql_query\n",
    "    df = pd.read_sql(sqlcommand, sqlconnection) ### alternative code\n",
    " \n",
    "    sqlconnection.commit() \n",
    "    sqlconnection.close()\n",
    "    return df\n",
    "   "
   ]
  },
  {
   "cell_type": "code",
   "execution_count": 44,
   "id": "69c52934",
   "metadata": {},
   "outputs": [
    {
     "name": "stdout",
     "output_type": "stream",
     "text": [
      "2\n"
     ]
    }
   ],
   "source": [
    "## Set Sample Size. This will be set to 105 as per requirement.\n",
    "if (MAX_COMPANIES_COUNT <= 100):\n",
    "    MAX_SAMPLES_COUNT = MAX_COMPANIES_COUNT \n",
    "else :\n",
    "    MAX_SAMPLES_COUNT = 105\n",
    "    \n",
    "print(MAX_SAMPLES_COUNT)"
   ]
  },
  {
   "cell_type": "code",
   "execution_count": 45,
   "id": "822bb69d",
   "metadata": {},
   "outputs": [],
   "source": [
    "##Read master mapping data and sample >100 firms. \n",
    "sqlquery = \"Select * from EdgarFilingsStockFinancials;\"\n",
    "df = FetchSqlResultsDatabase(sqlquery)"
   ]
  },
  {
   "cell_type": "code",
   "execution_count": 46,
   "id": "48ddcf68",
   "metadata": {},
   "outputs": [],
   "source": [
    "sampleDataframe = df.sample(MAX_SAMPLES_COUNT)"
   ]
  },
  {
   "cell_type": "code",
   "execution_count": 47,
   "id": "a583d200",
   "metadata": {},
   "outputs": [
    {
     "data": {
      "text/html": [
       "<div>\n",
       "<style scoped>\n",
       "    .dataframe tbody tr th:only-of-type {\n",
       "        vertical-align: middle;\n",
       "    }\n",
       "\n",
       "    .dataframe tbody tr th {\n",
       "        vertical-align: top;\n",
       "    }\n",
       "\n",
       "    .dataframe thead th {\n",
       "        text-align: right;\n",
       "    }\n",
       "</style>\n",
       "<table border=\"1\" class=\"dataframe\">\n",
       "  <thead>\n",
       "    <tr style=\"text-align: right;\">\n",
       "      <th></th>\n",
       "      <th>cik</th>\n",
       "      <th>ticker</th>\n",
       "      <th>title</th>\n",
       "    </tr>\n",
       "  </thead>\n",
       "  <tbody>\n",
       "    <tr>\n",
       "      <th>20</th>\n",
       "      <td>200406</td>\n",
       "      <td>JNJ</td>\n",
       "      <td>JOHNSON &amp; JOHNSON</td>\n",
       "    </tr>\n",
       "    <tr>\n",
       "      <th>9</th>\n",
       "      <td>1046179</td>\n",
       "      <td>TSM</td>\n",
       "      <td>TAIWAN SEMICONDUCTOR MANUFACTURING CO LTD</td>\n",
       "    </tr>\n",
       "  </tbody>\n",
       "</table>\n",
       "</div>"
      ],
      "text/plain": [
       "        cik ticker                                      title\n",
       "20   200406    JNJ                          JOHNSON & JOHNSON\n",
       "9   1046179    TSM  TAIWAN SEMICONDUCTOR MANUFACTURING CO LTD"
      ]
     },
     "execution_count": 47,
     "metadata": {},
     "output_type": "execute_result"
    }
   ],
   "source": [
    "sampleDataframe"
   ]
  },
  {
   "cell_type": "code",
   "execution_count": 48,
   "id": "7a5e3ee6",
   "metadata": {},
   "outputs": [
    {
     "data": {
      "text/plain": [
       "20     200406\n",
       "9     1046179\n",
       "Name: cik, dtype: int64"
      ]
     },
     "execution_count": 48,
     "metadata": {},
     "output_type": "execute_result"
    }
   ],
   "source": [
    "## This data frame will be used to query 10-Q filings from DB in production.\n",
    "## Assumption - We will use the modified sample data frame with 'testcik' for development purpose\n",
    "sampleDataframe['cik']\n",
    "## sampleDataframe['testcik'] = ['789019','320193']\n"
   ]
  },
  {
   "cell_type": "code",
   "execution_count": 49,
   "id": "844cc841",
   "metadata": {},
   "outputs": [
    {
     "data": {
      "text/plain": [
       "'/Users/kapildevarsh/Documents/Python Programming for Fintech/Python Group Project/Code'"
      ]
     },
     "execution_count": 49,
     "metadata": {},
     "output_type": "execute_result"
    }
   ],
   "source": [
    "mycodepath = '/Users/kapildevarsh/Documents/Python Programming for Fintech/Python Group Project/Code'\n",
    "os.chdir(mycodepath)\n",
    "os.getcwd()"
   ]
  },
  {
   "cell_type": "code",
   "execution_count": 56,
   "id": "748de3a2",
   "metadata": {},
   "outputs": [],
   "source": [
    "##Task 5\n",
    "##These modules must be in the same folder as this code (or use a sys.path.append())\n",
    "import MOD_EDGAR_Forms  # This module contains some predefined form groups\n",
    "import MOD_Download_Utilities as du\n",
    "import MOD_Load_MasterDictionary_v2022 as LM\n",
    "import MOD_Read_DocDict as rd\n",
    "import csv\n",
    "import string\n",
    "from pathlib import Path\n",
    "import shutil"
   ]
  },
  {
   "cell_type": "code",
   "execution_count": 57,
   "id": "d33007bb",
   "metadata": {},
   "outputs": [],
   "source": [
    "# User defined directory for files to be parsed\n",
    "#TARGET_FILES = r'/Users/kapildevarsh/Documents/Python Programming for Fintech/Python Group Project/Data/SECFilingsData/*.*'\n",
    "textual_analysis_path = base_local_path + 'TextualAnalysisData'\n",
    "TARGET_FILES = cik_tickers_edgarfilings_path + '/*.*'\n",
    "# User defined file pointer to LM dictionary\n",
    "MASTER_DICTIONARY_FILE = textual_analysis_path+ '/Loughran-McDonald_MasterDictionary_1993-2021.csv'\n",
    "# User defined output file\n",
    "OUTPUT_FILE = textual_analysis_path + '/TextAnalysisOutput.csv'\n",
    "# Setup output\n",
    "OUTPUT_FIELDS = ['file name', 'file size', 'number of words', '% negative', '% positive',\n",
    "                 '% uncertainty', '% litigious', '% strong modal', '% weak modal',\n",
    "                 '% constraining', '# of alphabetic', '# of digits',\n",
    "                 '# of numbers', 'avg # of syllables per word', 'average word length', 'vocabulary']"
   ]
  },
  {
   "cell_type": "code",
   "execution_count": 66,
   "id": "f2626a1b",
   "metadata": {},
   "outputs": [
    {
     "name": "stdout",
     "output_type": "stream",
     "text": [
      "\n",
      " ...Loading Master Dictionary 85,000\n",
      "Master Dictionary loaded from file:\n",
      "  /Users/kapildevarsh/Documents/Python Programming for Fintech/Python Group Project/Data11/TextualAnalysisData/Loughran-McDonald_MasterDictionary_1993-2021.csv\n",
      "\n",
      "  master_dictionary has 86,531 words.\n",
      "\n"
     ]
    }
   ],
   "source": [
    "\n",
    "my_file = Path(MASTER_DICTIONARY_FILE)\n",
    "src_file = src_sample + '/Loughran-McDonald_MasterDictionary_1993-2021.csv'\n",
    "if (my_file.exists()):\n",
    "        lm_dictionary = LM.load_masterdictionary(MASTER_DICTIONARY_FILE, print_flag=True)\n",
    "else:\n",
    "         shutil.copy(src_file, textual_analysis_path)\n",
    "         lm_dictionary = LM.load_masterdictionary(MASTER_DICTIONARY_FILE, print_flag=True)\n",
    "        #print(\"Place the LM Dictionary file in Textual Analysis Folder\")"
   ]
  },
  {
   "cell_type": "code",
   "execution_count": 67,
   "id": "e27367d8",
   "metadata": {},
   "outputs": [
    {
     "name": "stdout",
     "output_type": "stream",
     "text": [
      "\n",
      "\n",
      "Tue Jan  9 20:37:17 2024\n",
      "PROGRAM NAME: /Users/kapildevarsh/anaconda3/lib/python3.11/site-packages/ipykernel_launcher.py\n",
      "\n"
     ]
    }
   ],
   "source": [
    "def get_data(doc):\n",
    "\n",
    "    vdictionary = dict()\n",
    "    _odata = [0] * 16\n",
    "    total_syllables = 0\n",
    "    word_length = 0\n",
    "    \n",
    "    tokens = re.findall('\\w+', doc)  # Note that \\w+ splits hyphenated words\n",
    "    for token in tokens:\n",
    "        if not token.isdigit() and len(token) > 1 and token in lm_dictionary:\n",
    "            _odata[2] += 1  # word count\n",
    "            word_length += len(token)\n",
    "            if token not in vdictionary:\n",
    "                vdictionary[token] = 1\n",
    "            if lm_dictionary[token].negative: _odata[3] += 1\n",
    "            if lm_dictionary[token].positive: _odata[4] += 1\n",
    "            if lm_dictionary[token].uncertainty: _odata[5] += 1\n",
    "            if lm_dictionary[token].litigious: _odata[6] += 1\n",
    "            if lm_dictionary[token].strong_modal: _odata[7] += 1\n",
    "            if lm_dictionary[token].weak_modal: _odata[8] += 1\n",
    "            if lm_dictionary[token].constraining: _odata[9] += 1\n",
    "            total_syllables += lm_dictionary[token].syllables\n",
    "\n",
    "    _odata[10] = len(re.findall('[A-Z]', doc))\n",
    "    _odata[11] = len(re.findall('[0-9]', doc))\n",
    "    # drop punctuation within numbers for number count\n",
    "    doc = re.sub('(?!=[0-9])(\\.|,)(?=[0-9])', '', doc)\n",
    "    doc = doc.translate(str.maketrans(string.punctuation, \" \" * len(string.punctuation)))\n",
    "    _odata[12] = len(re.findall(r'\\b[-+\\(]?[$€£]?[-+(]?\\d+\\)?\\b', doc))\n",
    "    _odata[13] = total_syllables / _odata[2]\n",
    "    _odata[14] = word_length / _odata[2]\n",
    "    _odata[15] = len(vdictionary)\n",
    "    \n",
    "    # Convert counts to %\n",
    "    for i in range(3, 9 + 1):\n",
    "        _odata[i] = (_odata[i] / _odata[2]) * 100\n",
    "    # Vocabulary\n",
    "        \n",
    "    return _odata\n",
    "\n",
    "\n",
    "if __name__ == '__main__':\n",
    "    start = dt.datetime.now()\n",
    "    print(f'\\n\\n{start.strftime(\"%c\")}\\nPROGRAM NAME: {sys.argv[0]}\\n')"
   ]
  },
  {
   "cell_type": "code",
   "execution_count": 68,
   "id": "80c96f4b",
   "metadata": {},
   "outputs": [],
   "source": [
    "def textual_analysis_main(file):\n",
    "\n",
    "    f_out = open(OUTPUT_FILE, 'a')\n",
    "    wr = csv.writer(f_out, lineterminator='\\n')\n",
    "    #wr.writerow(OUTPUT_FIELDS)\n",
    "\n",
    "   \n",
    "    with open(file, 'r', encoding='UTF-8', errors='ignore') as f_in:\n",
    "            doc = f_in.read()\n",
    "    doc = re.sub('(May|MAY)', ' ', doc)  # drop all May month references\n",
    "    doc = doc.upper()  # for this parse caps aren't informative so shift\n",
    "\n",
    "    output_data = get_data(doc)\n",
    "    output_data[0] = file\n",
    "    output_data[1] = len(doc)\n",
    "    wr.writerow(output_data)\n",
    "   "
   ]
  },
  {
   "cell_type": "code",
   "execution_count": 69,
   "id": "866dd730",
   "metadata": {},
   "outputs": [],
   "source": [
    "#4. Query 10-Q Filings from DB  (Task 5 integrated with Task 4)\n",
    "\n",
    "def Query10QFilings(sampleDataFrame):\n",
    "    \n",
    "    setcurrentfolder(cik_tickers_edgarfilings_path)\n",
    "    \n",
    "    startpos = len(cik_tickers_edgarfilings_path) + 1\n",
    "\n",
    "    setcurrentfolder(cik_tickers_edgarfilings_path)\n",
    "\n",
    "    startpos = len(cik_tickers_edgarfilings_path) + 1\n",
    "    \n",
    "    InitializeOutputFile()\n",
    "    \n",
    "    for cik in sampleDataframe['testcik'] :\n",
    "        for qcount in range(1,4):\n",
    "            sql_query= \"Select FilingFilePath from EdgarSECFilings where cik =='\" +  str(cik) + \"'  and form = '10-Q' and QuarterNo  = \" + str(qcount)+\";\"\n",
    "            print(sql_query)\n",
    "            result = FetchSqlResultsDatabase(sql_query)\n",
    "            print(str(qcount) + ' ' + result)\n",
    "           \n",
    "            #Textual Analysis to classify Text into Text Analysis output csv file \n",
    "            # This needs to be saved back into SEC10QFilingsTone table \n",
    "            \n",
    "            if(result.empty == False):\n",
    "                path = result.values[0][0]\n",
    "                filepath = path[:-5]\n",
    "                filename = filepath[startpos:] + '\\n.txt' \n",
    "                print('The filename:' + filename)\n",
    "                textual_analysis_main(filename)\n",
    "                \n",
    "    "
   ]
  },
  {
   "cell_type": "code",
   "execution_count": 70,
   "id": "4692070b",
   "metadata": {},
   "outputs": [],
   "source": [
    "from pathlib import Path\n",
    "def InitializeOutputFile():\n",
    "    my_file = Path(OUTPUT_FILE)\n",
    "    if my_file.exists():\n",
    "        return\n",
    "    f_out = open(OUTPUT_FILE, 'a')\n",
    "    wr = csv.writer(f_out, lineterminator='\\n')\n",
    "    wr.writerow(OUTPUT_FIELDS)\n",
    "    f_out.close()"
   ]
  },
  {
   "cell_type": "code",
   "execution_count": 71,
   "id": "e51388c4",
   "metadata": {},
   "outputs": [
    {
     "name": "stdout",
     "output_type": "stream",
     "text": [
      "Select FilingFilePath from EdgarSECFilings where cik =='789019'  and form = '10-Q' and QuarterNo  = 1;\n",
      "                                      FilingFilePath\n",
      "0  1 /Users/kapildevarsh/Documents/Python Program...\n",
      "The filename:789019_MICROSOFT CORP_10-Q_2022-01-25_9 0001564590-22-002324.txt\n",
      ".txt\n",
      "Select FilingFilePath from EdgarSECFilings where cik =='789019'  and form = '10-Q' and QuarterNo  = 2;\n",
      "                                      FilingFilePath\n",
      "0  2 /Users/kapildevarsh/Documents/Python Program...\n",
      "The filename:789019_MICROSOFT CORP_10-Q_2022-04-26_9 0001564590-22-015675.txt\n",
      ".txt\n",
      "Select FilingFilePath from EdgarSECFilings where cik =='789019'  and form = '10-Q' and QuarterNo  = 3;\n",
      "Empty DataFrame\n",
      "Columns: [FilingFilePath]\n",
      "Index: []\n",
      "Select FilingFilePath from EdgarSECFilings where cik =='320193'  and form = '10-Q' and QuarterNo  = 1;\n",
      "                                      FilingFilePath\n",
      "0  1 /Users/kapildevarsh/Documents/Python Program...\n",
      "The filename:320193_Apple Inc._10-Q_2022-01-28_3 0000320193-22-000007.txt\n",
      ".txt\n",
      "Select FilingFilePath from EdgarSECFilings where cik =='320193'  and form = '10-Q' and QuarterNo  = 2;\n",
      "                                      FilingFilePath\n",
      "0  2 /Users/kapildevarsh/Documents/Python Program...\n",
      "The filename:320193_Apple Inc._10-Q_2022-04-29_3 0000320193-22-000059.txt\n",
      ".txt\n",
      "Select FilingFilePath from EdgarSECFilings where cik =='320193'  and form = '10-Q' and QuarterNo  = 3;\n",
      "                                      FilingFilePath\n",
      "0  3 /Users/kapildevarsh/Documents/Python Program...\n",
      "The filename:320193_Apple Inc._10-Q_2022-07-29_3 0000320193-22-000070.txt\n",
      ".txt\n"
     ]
    }
   ],
   "source": [
    "#Query SEC Filings for sample of >100 companies from Database for Q1 to Q4\n",
    "#This will be replaced with 'cik' instead of 'testcik'. The testcik is for testing/coding purpose\n",
    "#Task 4 Assumption : We are using the below mdified sample data frame for development purpose\n",
    "sampleDataframe['testcik'] = ['789019','320193']\n",
    "\n",
    "Query10QFilings(sampleDataframe)\n",
    "\n",
    "\n",
    "\n"
   ]
  },
  {
   "cell_type": "code",
   "execution_count": 72,
   "id": "0fe6fdf2",
   "metadata": {},
   "outputs": [],
   "source": [
    "# cik = 789019\n",
    "# qcount = 1\n",
    "\n",
    "# sql_query= \"Select FilingFilePath from EdgarSECFilings where cik =='\" +  str(cik) + \"'  and form = '10-Q' and '2022Q'  = \" + str(qcount)\n",
    "# sql_query"
   ]
  },
  {
   "cell_type": "code",
   "execution_count": 73,
   "id": "845bbe50",
   "metadata": {},
   "outputs": [
    {
     "data": {
      "text/plain": [
       "'/Users/kapildevarsh/Documents/Python Programming for Fintech/Python Group Project/Data11/SECFilingsData'"
      ]
     },
     "execution_count": 73,
     "metadata": {},
     "output_type": "execute_result"
    }
   ],
   "source": [
    "## Task 6 - Summary Statistics\n",
    "os.getcwd()"
   ]
  },
  {
   "cell_type": "code",
   "execution_count": 74,
   "id": "9fecb239",
   "metadata": {},
   "outputs": [],
   "source": [
    "sql_database_path = sql_database_path = base_local_path + 'SQL/'\n",
    "#print(sql_database_path )"
   ]
  },
  {
   "cell_type": "code",
   "execution_count": 75,
   "id": "9e89d882",
   "metadata": {},
   "outputs": [],
   "source": [
    "daily_stock_data_folder = tickers_historicalData_path + '/'"
   ]
  },
  {
   "cell_type": "code",
   "execution_count": 76,
   "id": "1c4eca83",
   "metadata": {},
   "outputs": [],
   "source": [
    "df_stocks_data_overall = pd.DataFrame()\n",
    "for file_name in os.listdir(daily_stock_data_folder):\n",
    "    df_each_stock_data = pd.read_csv(f'{daily_stock_data_folder}{file_name}')\n",
    "    df_each_stock_data['company_name'] = file_name.split('_')[0]\n",
    "    df_stocks_data_overall = pd.concat([df_stocks_data_overall, df_each_stock_data])"
   ]
  },
  {
   "cell_type": "code",
   "execution_count": 77,
   "id": "6901cc6a",
   "metadata": {},
   "outputs": [],
   "source": [
    "df_stocks_data_overall['daily_returns'] = df_stocks_data_overall.groupby('company_name')['Close'].pct_change()"
   ]
  },
  {
   "cell_type": "code",
   "execution_count": 452,
   "id": "14444818",
   "metadata": {},
   "outputs": [
    {
     "data": {
      "text/plain": [
       "0           NaN\n",
       "1     -0.012692\n",
       "2     -0.026600\n",
       "3     -0.016693\n",
       "4      0.000988\n",
       "         ...   \n",
       "246    0.002267\n",
       "247   -0.007414\n",
       "248   -0.010255\n",
       "249    0.027630\n",
       "250   -0.004938\n",
       "Name: daily_returns, Length: 502, dtype: float64"
      ]
     },
     "execution_count": 452,
     "metadata": {},
     "output_type": "execute_result"
    }
   ],
   "source": [
    "df_stocks_data_overall['daily_returns']"
   ]
  },
  {
   "cell_type": "code",
   "execution_count": 312,
   "id": "5294be31",
   "metadata": {},
   "outputs": [
    {
     "data": {
      "text/html": [
       "<div>\n",
       "<style scoped>\n",
       "    .dataframe tbody tr th:only-of-type {\n",
       "        vertical-align: middle;\n",
       "    }\n",
       "\n",
       "    .dataframe tbody tr th {\n",
       "        vertical-align: top;\n",
       "    }\n",
       "\n",
       "    .dataframe thead th {\n",
       "        text-align: right;\n",
       "    }\n",
       "</style>\n",
       "<table border=\"1\" class=\"dataframe\">\n",
       "  <thead>\n",
       "    <tr style=\"text-align: right;\">\n",
       "      <th></th>\n",
       "      <th>Date</th>\n",
       "      <th>Open</th>\n",
       "      <th>High</th>\n",
       "      <th>Low</th>\n",
       "      <th>Close</th>\n",
       "      <th>Adj Close</th>\n",
       "      <th>Volume</th>\n",
       "      <th>company_name</th>\n",
       "      <th>daily_returns</th>\n",
       "    </tr>\n",
       "  </thead>\n",
       "  <tbody>\n",
       "    <tr>\n",
       "      <th>0</th>\n",
       "      <td>2022-01-03</td>\n",
       "      <td>177.830002</td>\n",
       "      <td>182.880005</td>\n",
       "      <td>177.710007</td>\n",
       "      <td>182.009995</td>\n",
       "      <td>179.953888</td>\n",
       "      <td>104487900</td>\n",
       "      <td>AAPL</td>\n",
       "      <td>NaN</td>\n",
       "    </tr>\n",
       "    <tr>\n",
       "      <th>1</th>\n",
       "      <td>2022-01-04</td>\n",
       "      <td>182.630005</td>\n",
       "      <td>182.940002</td>\n",
       "      <td>179.119995</td>\n",
       "      <td>179.699997</td>\n",
       "      <td>177.669983</td>\n",
       "      <td>99310400</td>\n",
       "      <td>AAPL</td>\n",
       "      <td>-0.012692</td>\n",
       "    </tr>\n",
       "    <tr>\n",
       "      <th>2</th>\n",
       "      <td>2022-01-05</td>\n",
       "      <td>179.610001</td>\n",
       "      <td>180.169998</td>\n",
       "      <td>174.639999</td>\n",
       "      <td>174.919998</td>\n",
       "      <td>172.944000</td>\n",
       "      <td>94537600</td>\n",
       "      <td>AAPL</td>\n",
       "      <td>-0.026600</td>\n",
       "    </tr>\n",
       "    <tr>\n",
       "      <th>3</th>\n",
       "      <td>2022-01-06</td>\n",
       "      <td>172.699997</td>\n",
       "      <td>175.300003</td>\n",
       "      <td>171.639999</td>\n",
       "      <td>172.000000</td>\n",
       "      <td>170.056961</td>\n",
       "      <td>96904000</td>\n",
       "      <td>AAPL</td>\n",
       "      <td>-0.016693</td>\n",
       "    </tr>\n",
       "    <tr>\n",
       "      <th>4</th>\n",
       "      <td>2022-01-07</td>\n",
       "      <td>172.889999</td>\n",
       "      <td>174.139999</td>\n",
       "      <td>171.029999</td>\n",
       "      <td>172.169998</td>\n",
       "      <td>170.225067</td>\n",
       "      <td>86709100</td>\n",
       "      <td>AAPL</td>\n",
       "      <td>0.000988</td>\n",
       "    </tr>\n",
       "  </tbody>\n",
       "</table>\n",
       "</div>"
      ],
      "text/plain": [
       "         Date        Open        High         Low       Close   Adj Close  \\\n",
       "0  2022-01-03  177.830002  182.880005  177.710007  182.009995  179.953888   \n",
       "1  2022-01-04  182.630005  182.940002  179.119995  179.699997  177.669983   \n",
       "2  2022-01-05  179.610001  180.169998  174.639999  174.919998  172.944000   \n",
       "3  2022-01-06  172.699997  175.300003  171.639999  172.000000  170.056961   \n",
       "4  2022-01-07  172.889999  174.139999  171.029999  172.169998  170.225067   \n",
       "\n",
       "      Volume company_name  daily_returns  \n",
       "0  104487900         AAPL            NaN  \n",
       "1   99310400         AAPL      -0.012692  \n",
       "2   94537600         AAPL      -0.026600  \n",
       "3   96904000         AAPL      -0.016693  \n",
       "4   86709100         AAPL       0.000988  "
      ]
     },
     "execution_count": 312,
     "metadata": {},
     "output_type": "execute_result"
    }
   ],
   "source": [
    "df_stocks_data_overall.head()"
   ]
  },
  {
   "cell_type": "code",
   "execution_count": 313,
   "id": "553b03b8",
   "metadata": {},
   "outputs": [
    {
     "data": {
      "text/plain": [
       "count    5.020000e+02\n",
       "mean     5.956485e+07\n",
       "std      3.391384e+07\n",
       "min      9.200800e+06\n",
       "25%      2.912962e+07\n",
       "50%      5.464290e+07\n",
       "75%      8.449002e+07\n",
       "max      1.826020e+08\n",
       "Name: Volume, dtype: float64"
      ]
     },
     "execution_count": 313,
     "metadata": {},
     "output_type": "execute_result"
    }
   ],
   "source": [
    "## Stats related to overall volume across all stocks\n",
    "df_stocks_data_overall['Volume'].describe()"
   ]
  },
  {
   "cell_type": "code",
   "execution_count": 314,
   "id": "99ddcdd9",
   "metadata": {},
   "outputs": [
    {
     "data": {
      "text/html": [
       "<div>\n",
       "<style scoped>\n",
       "    .dataframe tbody tr th:only-of-type {\n",
       "        vertical-align: middle;\n",
       "    }\n",
       "\n",
       "    .dataframe tbody tr th {\n",
       "        vertical-align: top;\n",
       "    }\n",
       "\n",
       "    .dataframe thead th {\n",
       "        text-align: right;\n",
       "    }\n",
       "</style>\n",
       "<table border=\"1\" class=\"dataframe\">\n",
       "  <thead>\n",
       "    <tr style=\"text-align: right;\">\n",
       "      <th></th>\n",
       "      <th>count</th>\n",
       "      <th>mean</th>\n",
       "      <th>std</th>\n",
       "      <th>min</th>\n",
       "      <th>25%</th>\n",
       "      <th>50%</th>\n",
       "      <th>75%</th>\n",
       "      <th>max</th>\n",
       "    </tr>\n",
       "    <tr>\n",
       "      <th>company_name</th>\n",
       "      <th></th>\n",
       "      <th></th>\n",
       "      <th></th>\n",
       "      <th></th>\n",
       "      <th></th>\n",
       "      <th></th>\n",
       "      <th></th>\n",
       "      <th></th>\n",
       "    </tr>\n",
       "  </thead>\n",
       "  <tbody>\n",
       "    <tr>\n",
       "      <th>AAPL</th>\n",
       "      <td>251.0</td>\n",
       "      <td>8.791038e+07</td>\n",
       "      <td>2.365699e+07</td>\n",
       "      <td>35195900.0</td>\n",
       "      <td>72297400.0</td>\n",
       "      <td>83737200.0</td>\n",
       "      <td>96937050.0</td>\n",
       "      <td>182602000.0</td>\n",
       "    </tr>\n",
       "    <tr>\n",
       "      <th>MSFT</th>\n",
       "      <td>251.0</td>\n",
       "      <td>3.121932e+07</td>\n",
       "      <td>1.148387e+07</td>\n",
       "      <td>9200800.0</td>\n",
       "      <td>23334300.0</td>\n",
       "      <td>29043900.0</td>\n",
       "      <td>35292600.0</td>\n",
       "      <td>90428900.0</td>\n",
       "    </tr>\n",
       "  </tbody>\n",
       "</table>\n",
       "</div>"
      ],
      "text/plain": [
       "              count          mean           std         min         25%  \\\n",
       "company_name                                                              \n",
       "AAPL          251.0  8.791038e+07  2.365699e+07  35195900.0  72297400.0   \n",
       "MSFT          251.0  3.121932e+07  1.148387e+07   9200800.0  23334300.0   \n",
       "\n",
       "                     50%         75%          max  \n",
       "company_name                                       \n",
       "AAPL          83737200.0  96937050.0  182602000.0  \n",
       "MSFT          29043900.0  35292600.0   90428900.0  "
      ]
     },
     "execution_count": 314,
     "metadata": {},
     "output_type": "execute_result"
    }
   ],
   "source": [
    "## Stock Volume statistics for each company\n",
    "df_stocks_data_overall.groupby('company_name')['Volume'].describe()"
   ]
  },
  {
   "cell_type": "code",
   "execution_count": 315,
   "id": "b9aa8eeb",
   "metadata": {},
   "outputs": [],
   "source": [
    "df_stocks_vol_mean = df_stocks_data_overall.groupby('company_name')['Volume'].mean().to_frame().reset_index()\n",
    "df_stocks_vol_mean.columns = ['company_name', 'volume_mean']"
   ]
  },
  {
   "cell_type": "code",
   "execution_count": 316,
   "id": "609e3437",
   "metadata": {},
   "outputs": [
    {
     "data": {
      "text/html": [
       "<div>\n",
       "<style scoped>\n",
       "    .dataframe tbody tr th:only-of-type {\n",
       "        vertical-align: middle;\n",
       "    }\n",
       "\n",
       "    .dataframe tbody tr th {\n",
       "        vertical-align: top;\n",
       "    }\n",
       "\n",
       "    .dataframe thead th {\n",
       "        text-align: right;\n",
       "    }\n",
       "</style>\n",
       "<table border=\"1\" class=\"dataframe\">\n",
       "  <thead>\n",
       "    <tr style=\"text-align: right;\">\n",
       "      <th></th>\n",
       "      <th>company_name</th>\n",
       "      <th>volume_mean</th>\n",
       "    </tr>\n",
       "  </thead>\n",
       "  <tbody>\n",
       "    <tr>\n",
       "      <th>0</th>\n",
       "      <td>AAPL</td>\n",
       "      <td>8.791038e+07</td>\n",
       "    </tr>\n",
       "    <tr>\n",
       "      <th>1</th>\n",
       "      <td>MSFT</td>\n",
       "      <td>3.121932e+07</td>\n",
       "    </tr>\n",
       "  </tbody>\n",
       "</table>\n",
       "</div>"
      ],
      "text/plain": [
       "  company_name   volume_mean\n",
       "0         AAPL  8.791038e+07\n",
       "1         MSFT  3.121932e+07"
      ]
     },
     "execution_count": 316,
     "metadata": {},
     "output_type": "execute_result"
    }
   ],
   "source": [
    "## volume mean of each company\n",
    "df_stocks_vol_mean"
   ]
  },
  {
   "cell_type": "code",
   "execution_count": 317,
   "id": "14a9d8c6",
   "metadata": {},
   "outputs": [
    {
     "data": {
      "text/html": [
       "<div>\n",
       "<style scoped>\n",
       "    .dataframe tbody tr th:only-of-type {\n",
       "        vertical-align: middle;\n",
       "    }\n",
       "\n",
       "    .dataframe tbody tr th {\n",
       "        vertical-align: top;\n",
       "    }\n",
       "\n",
       "    .dataframe thead th {\n",
       "        text-align: right;\n",
       "    }\n",
       "</style>\n",
       "<table border=\"1\" class=\"dataframe\">\n",
       "  <thead>\n",
       "    <tr style=\"text-align: right;\">\n",
       "      <th></th>\n",
       "      <th>count</th>\n",
       "      <th>mean</th>\n",
       "      <th>std</th>\n",
       "      <th>min</th>\n",
       "      <th>25%</th>\n",
       "      <th>50%</th>\n",
       "      <th>75%</th>\n",
       "      <th>max</th>\n",
       "    </tr>\n",
       "    <tr>\n",
       "      <th>company_name</th>\n",
       "      <th></th>\n",
       "      <th></th>\n",
       "      <th></th>\n",
       "      <th></th>\n",
       "      <th></th>\n",
       "      <th></th>\n",
       "      <th></th>\n",
       "      <th></th>\n",
       "    </tr>\n",
       "  </thead>\n",
       "  <tbody>\n",
       "    <tr>\n",
       "      <th>AAPL</th>\n",
       "      <td>250.0</td>\n",
       "      <td>-0.001097</td>\n",
       "      <td>0.022471</td>\n",
       "      <td>-0.058680</td>\n",
       "      <td>-0.015816</td>\n",
       "      <td>-0.001360</td>\n",
       "      <td>0.013388</td>\n",
       "      <td>0.088975</td>\n",
       "    </tr>\n",
       "    <tr>\n",
       "      <th>MSFT</th>\n",
       "      <td>250.0</td>\n",
       "      <td>-0.001085</td>\n",
       "      <td>0.022308</td>\n",
       "      <td>-0.077156</td>\n",
       "      <td>-0.014975</td>\n",
       "      <td>-0.001939</td>\n",
       "      <td>0.012852</td>\n",
       "      <td>0.082268</td>\n",
       "    </tr>\n",
       "  </tbody>\n",
       "</table>\n",
       "</div>"
      ],
      "text/plain": [
       "              count      mean       std       min       25%       50%  \\\n",
       "company_name                                                            \n",
       "AAPL          250.0 -0.001097  0.022471 -0.058680 -0.015816 -0.001360   \n",
       "MSFT          250.0 -0.001085  0.022308 -0.077156 -0.014975 -0.001939   \n",
       "\n",
       "                   75%       max  \n",
       "company_name                      \n",
       "AAPL          0.013388  0.088975  \n",
       "MSFT          0.012852  0.082268  "
      ]
     },
     "execution_count": 317,
     "metadata": {},
     "output_type": "execute_result"
    }
   ],
   "source": [
    "## Daily returns \n",
    "df_stocks_data_overall.groupby('company_name')['daily_returns'].describe()"
   ]
  },
  {
   "cell_type": "code",
   "execution_count": 318,
   "id": "51095f2d",
   "metadata": {},
   "outputs": [],
   "source": [
    "df_stocks_daily_returns_mean = df_stocks_data_overall.groupby('company_name')['daily_returns'].mean().to_frame().reset_index()"
   ]
  },
  {
   "cell_type": "code",
   "execution_count": 319,
   "id": "31849a29",
   "metadata": {},
   "outputs": [],
   "source": [
    "df_stocks_daily_returns_mean.columns = ['company_name','daily_returns_mean']"
   ]
  },
  {
   "cell_type": "code",
   "execution_count": 320,
   "id": "32409237",
   "metadata": {},
   "outputs": [
    {
     "data": {
      "text/html": [
       "<div>\n",
       "<style scoped>\n",
       "    .dataframe tbody tr th:only-of-type {\n",
       "        vertical-align: middle;\n",
       "    }\n",
       "\n",
       "    .dataframe tbody tr th {\n",
       "        vertical-align: top;\n",
       "    }\n",
       "\n",
       "    .dataframe thead th {\n",
       "        text-align: right;\n",
       "    }\n",
       "</style>\n",
       "<table border=\"1\" class=\"dataframe\">\n",
       "  <thead>\n",
       "    <tr style=\"text-align: right;\">\n",
       "      <th></th>\n",
       "      <th>company_name</th>\n",
       "      <th>daily_returns_mean</th>\n",
       "    </tr>\n",
       "  </thead>\n",
       "  <tbody>\n",
       "    <tr>\n",
       "      <th>0</th>\n",
       "      <td>AAPL</td>\n",
       "      <td>-0.001097</td>\n",
       "    </tr>\n",
       "    <tr>\n",
       "      <th>1</th>\n",
       "      <td>MSFT</td>\n",
       "      <td>-0.001085</td>\n",
       "    </tr>\n",
       "  </tbody>\n",
       "</table>\n",
       "</div>"
      ],
      "text/plain": [
       "  company_name  daily_returns_mean\n",
       "0         AAPL           -0.001097\n",
       "1         MSFT           -0.001085"
      ]
     },
     "execution_count": 320,
     "metadata": {},
     "output_type": "execute_result"
    }
   ],
   "source": [
    "df_stocks_daily_returns_mean"
   ]
  },
  {
   "cell_type": "code",
   "execution_count": 153,
   "id": "ca5422c3",
   "metadata": {},
   "outputs": [],
   "source": [
    "import matplotlib.pyplot as plt"
   ]
  },
  {
   "cell_type": "code",
   "execution_count": 154,
   "id": "621dc253",
   "metadata": {},
   "outputs": [
    {
     "name": "stderr",
     "output_type": "stream",
     "text": [
      "No artists with labels found to put in legend.  Note that artists whose label start with an underscore are ignored when legend() is called with no argument.\n"
     ]
    },
    {
     "data": {
      "image/png": "[encoded data removed]",
      "text/plain": [
       "<Figure size 1200x600 with 1 Axes>"
      ]
     },
     "metadata": {},
     "output_type": "display_data"
    }
   ],
   "source": [
    "## Individual stock performance\n",
    "\n",
    "ref_company_name = 'AAPL'\n",
    "df_ref_company = df_stocks_data_overall.copy()\n",
    "df_ref_company = df_ref_company[df_ref_company['company_name'] == ref_company_name]\n",
    "\n",
    "plt.figure(figsize=(12, 6))\n",
    "\n",
    "plt.plot(df_ref_company['Date'], df_ref_company['daily_returns'])\n",
    "\n",
    "# for company, data in df_stocks_data_overall.groupby('company_name'):\n",
    "#     plt.plot(data['Date'], data['daily_returns'], label=company)\n",
    "\n",
    "plt.title(f'Daily Returns for {ref_company_name} Company')\n",
    "plt.xlabel('Date')\n",
    "plt.ylabel('Returns')\n",
    "plt.legend()\n",
    "plt.show()"
   ]
  },
  {
   "cell_type": "code",
   "execution_count": 155,
   "id": "efe2986b",
   "metadata": {},
   "outputs": [
    {
     "name": "stdout",
     "output_type": "stream",
     "text": [
      "        cik  QuarterNo     form  \\\n",
      "0    320193          1     10-Q   \n",
      "1    320193          1        4   \n",
      "2    320193          1        4   \n",
      "3    320193          1        4   \n",
      "4    320193          1        4   \n",
      "..      ...        ...      ...   \n",
      "203  789019          4      8-K   \n",
      "204  789019          4  DEF 14A   \n",
      "205  789019          4  DEFA14A   \n",
      "206  789019          4  PX14A6G   \n",
      "207  789019          4  PX14A6G   \n",
      "\n",
      "                                        FilingFilePath  \n",
      "0    /Users/kapildevarsh/Documents/Python Programmi...  \n",
      "1    /Users/kapildevarsh/Documents/Python Programmi...  \n",
      "2    /Users/kapildevarsh/Documents/Python Programmi...  \n",
      "3    /Users/kapildevarsh/Documents/Python Programmi...  \n",
      "4    /Users/kapildevarsh/Documents/Python Programmi...  \n",
      "..                                                 ...  \n",
      "203  /Users/kapildevarsh/Documents/Python Programmi...  \n",
      "204  /Users/kapildevarsh/Documents/Python Programmi...  \n",
      "205  /Users/kapildevarsh/Documents/Python Programmi...  \n",
      "206  /Users/kapildevarsh/Documents/Python Programmi...  \n",
      "207  /Users/kapildevarsh/Documents/Python Programmi...  \n",
      "\n",
      "[208 rows x 4 columns]\n"
     ]
    }
   ],
   "source": [
    "sqlquery = 'select * from  EdgarSECFilings ' ## We should use rowid to identify records\n",
    "## SELECT rowid,cik,QuarterNo,form, FilingFilePath FROM EdgarSECFilings;\n",
    "\n",
    "# sqlquery = 'select a.cik, b.ticker ,`a.2022Q`, a.form, a.FilingPath from  EdgarSECFilings as a left join EdgarFilingsStockFinancials on a.cik = b.cik as b where a.form=\"10-Q\"'\n",
    "result = FetchSqlResultsDatabase(sqlquery)\n",
    "print(result)"
   ]
  },
  {
   "cell_type": "code",
   "execution_count": 157,
   "id": "ef54bdd3",
   "metadata": {},
   "outputs": [
    {
     "name": "stdout",
     "output_type": "stream",
     "text": [
      "      cik ticker  form                                     FilingFilePath\n",
      "0  320193   AAPL  10-Q  /Users/kapildevarsh/Documents/Python Programmi...\n",
      "1  789019   MSFT  10-Q  /Users/kapildevarsh/Documents/Python Programmi...\n",
      "2  320193   AAPL  10-Q  /Users/kapildevarsh/Documents/Python Programmi...\n",
      "3  789019   MSFT  10-Q  /Users/kapildevarsh/Documents/Python Programmi...\n",
      "4  320193   AAPL  10-Q  /Users/kapildevarsh/Documents/Python Programmi...\n",
      "5  789019   MSFT  10-Q  /Users/kapildevarsh/Documents/Python Programmi...\n"
     ]
    }
   ],
   "source": [
    "sqlquery = 'select a.cik, b.ticker , a.form, a.FilingFilePath from  EdgarSECFilings  a left join EdgarFilingsStockFinancials  b on a.cik = b.cik  where form=\"10-Q\"'\n",
    "# sqlquery = 'select a.cik, b.ticker ,`a.2022Q`, a.form, a.FilingPath from  EdgarSECFilings as a left join EdgarFilingsStockFinancials on a.cik = b.cik as b where a.form=\"10-Q\"'\n",
    "df_10Q_filings = FetchSqlResultsDatabase(sqlquery)\n",
    "print(df_10Q_filings)"
   ]
  },
  {
   "cell_type": "code",
   "execution_count": 158,
   "id": "f7db02a4",
   "metadata": {},
   "outputs": [],
   "source": [
    "## Filing Date can easily be retrieved from the FilePathName \n",
    "df_10Q_filings['filing_date'] = df_10Q_filings['FilingFilePath'].str.split('10-Q').str[1].str.split('_').str[1]"
   ]
  },
  {
   "cell_type": "code",
   "execution_count": 159,
   "id": "78678b53",
   "metadata": {},
   "outputs": [
    {
     "data": {
      "text/html": [
       "<div>\n",
       "<style scoped>\n",
       "    .dataframe tbody tr th:only-of-type {\n",
       "        vertical-align: middle;\n",
       "    }\n",
       "\n",
       "    .dataframe tbody tr th {\n",
       "        vertical-align: top;\n",
       "    }\n",
       "\n",
       "    .dataframe thead th {\n",
       "        text-align: right;\n",
       "    }\n",
       "</style>\n",
       "<table border=\"1\" class=\"dataframe\">\n",
       "  <thead>\n",
       "    <tr style=\"text-align: right;\">\n",
       "      <th></th>\n",
       "      <th>cik</th>\n",
       "      <th>ticker</th>\n",
       "      <th>form</th>\n",
       "      <th>FilingFilePath</th>\n",
       "      <th>filing_date</th>\n",
       "    </tr>\n",
       "  </thead>\n",
       "  <tbody>\n",
       "    <tr>\n",
       "      <th>0</th>\n",
       "      <td>320193</td>\n",
       "      <td>AAPL</td>\n",
       "      <td>10-Q</td>\n",
       "      <td>/Users/kapildevarsh/Documents/Python Programmi...</td>\n",
       "      <td>2022-01-28</td>\n",
       "    </tr>\n",
       "    <tr>\n",
       "      <th>1</th>\n",
       "      <td>789019</td>\n",
       "      <td>MSFT</td>\n",
       "      <td>10-Q</td>\n",
       "      <td>/Users/kapildevarsh/Documents/Python Programmi...</td>\n",
       "      <td>2022-01-25</td>\n",
       "    </tr>\n",
       "    <tr>\n",
       "      <th>2</th>\n",
       "      <td>320193</td>\n",
       "      <td>AAPL</td>\n",
       "      <td>10-Q</td>\n",
       "      <td>/Users/kapildevarsh/Documents/Python Programmi...</td>\n",
       "      <td>2022-04-29</td>\n",
       "    </tr>\n",
       "    <tr>\n",
       "      <th>3</th>\n",
       "      <td>789019</td>\n",
       "      <td>MSFT</td>\n",
       "      <td>10-Q</td>\n",
       "      <td>/Users/kapildevarsh/Documents/Python Programmi...</td>\n",
       "      <td>2022-04-26</td>\n",
       "    </tr>\n",
       "    <tr>\n",
       "      <th>4</th>\n",
       "      <td>320193</td>\n",
       "      <td>AAPL</td>\n",
       "      <td>10-Q</td>\n",
       "      <td>/Users/kapildevarsh/Documents/Python Programmi...</td>\n",
       "      <td>2022-07-29</td>\n",
       "    </tr>\n",
       "  </tbody>\n",
       "</table>\n",
       "</div>"
      ],
      "text/plain": [
       "      cik ticker  form                                     FilingFilePath  \\\n",
       "0  320193   AAPL  10-Q  /Users/kapildevarsh/Documents/Python Programmi...   \n",
       "1  789019   MSFT  10-Q  /Users/kapildevarsh/Documents/Python Programmi...   \n",
       "2  320193   AAPL  10-Q  /Users/kapildevarsh/Documents/Python Programmi...   \n",
       "3  789019   MSFT  10-Q  /Users/kapildevarsh/Documents/Python Programmi...   \n",
       "4  320193   AAPL  10-Q  /Users/kapildevarsh/Documents/Python Programmi...   \n",
       "\n",
       "  filing_date  \n",
       "0  2022-01-28  \n",
       "1  2022-01-25  \n",
       "2  2022-04-29  \n",
       "3  2022-04-26  \n",
       "4  2022-07-29  "
      ]
     },
     "execution_count": 159,
     "metadata": {},
     "output_type": "execute_result"
    }
   ],
   "source": [
    "df_10Q_filings.head()"
   ]
  },
  {
   "cell_type": "code",
   "execution_count": 161,
   "id": "26ec7454",
   "metadata": {},
   "outputs": [],
   "source": [
    "df_10Q_filings_with_earnings = pd.merge(df_10Q_filings, df_stocks_data_overall[['company_name', 'Date','Volume','daily_returns']], how='left', left_on=['ticker','filing_date'], right_on=['company_name','Date'])"
   ]
  },
  {
   "cell_type": "code",
   "execution_count": 162,
   "id": "8e16a008",
   "metadata": {},
   "outputs": [
    {
     "data": {
      "text/html": [
       "<div>\n",
       "<style scoped>\n",
       "    .dataframe tbody tr th:only-of-type {\n",
       "        vertical-align: middle;\n",
       "    }\n",
       "\n",
       "    .dataframe tbody tr th {\n",
       "        vertical-align: top;\n",
       "    }\n",
       "\n",
       "    .dataframe thead th {\n",
       "        text-align: right;\n",
       "    }\n",
       "</style>\n",
       "<table border=\"1\" class=\"dataframe\">\n",
       "  <thead>\n",
       "    <tr style=\"text-align: right;\">\n",
       "      <th></th>\n",
       "      <th>cik</th>\n",
       "      <th>ticker</th>\n",
       "      <th>form</th>\n",
       "      <th>FilingFilePath</th>\n",
       "      <th>filing_date</th>\n",
       "      <th>company_name</th>\n",
       "      <th>Date</th>\n",
       "      <th>Volume</th>\n",
       "      <th>daily_returns</th>\n",
       "    </tr>\n",
       "  </thead>\n",
       "  <tbody>\n",
       "    <tr>\n",
       "      <th>0</th>\n",
       "      <td>320193</td>\n",
       "      <td>AAPL</td>\n",
       "      <td>10-Q</td>\n",
       "      <td>/Users/kapildevarsh/Documents/Python Programmi...</td>\n",
       "      <td>2022-01-28</td>\n",
       "      <td>AAPL</td>\n",
       "      <td>2022-01-28</td>\n",
       "      <td>179935700</td>\n",
       "      <td>0.069778</td>\n",
       "    </tr>\n",
       "    <tr>\n",
       "      <th>1</th>\n",
       "      <td>789019</td>\n",
       "      <td>MSFT</td>\n",
       "      <td>10-Q</td>\n",
       "      <td>/Users/kapildevarsh/Documents/Python Programmi...</td>\n",
       "      <td>2022-01-25</td>\n",
       "      <td>MSFT</td>\n",
       "      <td>2022-01-25</td>\n",
       "      <td>72848600</td>\n",
       "      <td>-0.026588</td>\n",
       "    </tr>\n",
       "    <tr>\n",
       "      <th>2</th>\n",
       "      <td>320193</td>\n",
       "      <td>AAPL</td>\n",
       "      <td>10-Q</td>\n",
       "      <td>/Users/kapildevarsh/Documents/Python Programmi...</td>\n",
       "      <td>2022-04-29</td>\n",
       "      <td>AAPL</td>\n",
       "      <td>2022-04-29</td>\n",
       "      <td>131747600</td>\n",
       "      <td>-0.036605</td>\n",
       "    </tr>\n",
       "    <tr>\n",
       "      <th>3</th>\n",
       "      <td>789019</td>\n",
       "      <td>MSFT</td>\n",
       "      <td>10-Q</td>\n",
       "      <td>/Users/kapildevarsh/Documents/Python Programmi...</td>\n",
       "      <td>2022-04-26</td>\n",
       "      <td>MSFT</td>\n",
       "      <td>2022-04-26</td>\n",
       "      <td>46518400</td>\n",
       "      <td>-0.037404</td>\n",
       "    </tr>\n",
       "    <tr>\n",
       "      <th>4</th>\n",
       "      <td>320193</td>\n",
       "      <td>AAPL</td>\n",
       "      <td>10-Q</td>\n",
       "      <td>/Users/kapildevarsh/Documents/Python Programmi...</td>\n",
       "      <td>2022-07-29</td>\n",
       "      <td>AAPL</td>\n",
       "      <td>2022-07-29</td>\n",
       "      <td>101786900</td>\n",
       "      <td>0.032793</td>\n",
       "    </tr>\n",
       "    <tr>\n",
       "      <th>5</th>\n",
       "      <td>789019</td>\n",
       "      <td>MSFT</td>\n",
       "      <td>10-Q</td>\n",
       "      <td>/Users/kapildevarsh/Documents/Python Programmi...</td>\n",
       "      <td>2022-10-25</td>\n",
       "      <td>MSFT</td>\n",
       "      <td>2022-10-25</td>\n",
       "      <td>34775500</td>\n",
       "      <td>0.013792</td>\n",
       "    </tr>\n",
       "  </tbody>\n",
       "</table>\n",
       "</div>"
      ],
      "text/plain": [
       "      cik ticker  form                                     FilingFilePath  \\\n",
       "0  320193   AAPL  10-Q  /Users/kapildevarsh/Documents/Python Programmi...   \n",
       "1  789019   MSFT  10-Q  /Users/kapildevarsh/Documents/Python Programmi...   \n",
       "2  320193   AAPL  10-Q  /Users/kapildevarsh/Documents/Python Programmi...   \n",
       "3  789019   MSFT  10-Q  /Users/kapildevarsh/Documents/Python Programmi...   \n",
       "4  320193   AAPL  10-Q  /Users/kapildevarsh/Documents/Python Programmi...   \n",
       "5  789019   MSFT  10-Q  /Users/kapildevarsh/Documents/Python Programmi...   \n",
       "\n",
       "  filing_date company_name        Date     Volume  daily_returns  \n",
       "0  2022-01-28         AAPL  2022-01-28  179935700       0.069778  \n",
       "1  2022-01-25         MSFT  2022-01-25   72848600      -0.026588  \n",
       "2  2022-04-29         AAPL  2022-04-29  131747600      -0.036605  \n",
       "3  2022-04-26         MSFT  2022-04-26   46518400      -0.037404  \n",
       "4  2022-07-29         AAPL  2022-07-29  101786900       0.032793  \n",
       "5  2022-10-25         MSFT  2022-10-25   34775500       0.013792  "
      ]
     },
     "execution_count": 162,
     "metadata": {},
     "output_type": "execute_result"
    }
   ],
   "source": [
    "df_10Q_filings_with_earnings"
   ]
  },
  {
   "cell_type": "code",
   "execution_count": 163,
   "id": "0d132dd0",
   "metadata": {},
   "outputs": [],
   "source": [
    "df_10Q_filings_with_earnings = df_10Q_filings_with_earnings[['cik', 'company_name', 'form', 'filing_date', 'Volume', 'daily_returns']]"
   ]
  },
  {
   "cell_type": "code",
   "execution_count": 164,
   "id": "6cfabca3",
   "metadata": {},
   "outputs": [],
   "source": [
    "df_10Q_filings_with_earnings = pd.merge(df_10Q_filings_with_earnings, df_stocks_vol_mean, how='left', on='company_name')\n",
    "df_10Q_filings_with_earnings = pd.merge(df_10Q_filings_with_earnings, df_stocks_daily_returns_mean, how='left', on='company_name')"
   ]
  },
  {
   "cell_type": "code",
   "execution_count": 165,
   "id": "e3830592",
   "metadata": {},
   "outputs": [],
   "source": [
    "df_10Q_filings_with_earnings['volume_diff'] = df_10Q_filings_with_earnings['volume_mean'] - df_10Q_filings_with_earnings['Volume']\n",
    "df_10Q_filings_with_earnings['daily_returns_diff'] = df_10Q_filings_with_earnings['daily_returns_mean'] - df_10Q_filings_with_earnings['daily_returns']"
   ]
  },
  {
   "cell_type": "code",
   "execution_count": 166,
   "id": "2d15f6b6",
   "metadata": {},
   "outputs": [
    {
     "data": {
      "text/html": [
       "<div>\n",
       "<style scoped>\n",
       "    .dataframe tbody tr th:only-of-type {\n",
       "        vertical-align: middle;\n",
       "    }\n",
       "\n",
       "    .dataframe tbody tr th {\n",
       "        vertical-align: top;\n",
       "    }\n",
       "\n",
       "    .dataframe thead th {\n",
       "        text-align: right;\n",
       "    }\n",
       "</style>\n",
       "<table border=\"1\" class=\"dataframe\">\n",
       "  <thead>\n",
       "    <tr style=\"text-align: right;\">\n",
       "      <th></th>\n",
       "      <th>cik</th>\n",
       "      <th>company_name</th>\n",
       "      <th>form</th>\n",
       "      <th>filing_date</th>\n",
       "      <th>Volume</th>\n",
       "      <th>daily_returns</th>\n",
       "      <th>volume_mean</th>\n",
       "      <th>daily_returns_mean</th>\n",
       "      <th>volume_diff</th>\n",
       "      <th>daily_returns_diff</th>\n",
       "    </tr>\n",
       "  </thead>\n",
       "  <tbody>\n",
       "    <tr>\n",
       "      <th>0</th>\n",
       "      <td>320193</td>\n",
       "      <td>AAPL</td>\n",
       "      <td>10-Q</td>\n",
       "      <td>2022-01-28</td>\n",
       "      <td>179935700</td>\n",
       "      <td>0.069778</td>\n",
       "      <td>8.791038e+07</td>\n",
       "      <td>-0.001097</td>\n",
       "      <td>-9.202532e+07</td>\n",
       "      <td>-0.070874</td>\n",
       "    </tr>\n",
       "    <tr>\n",
       "      <th>1</th>\n",
       "      <td>789019</td>\n",
       "      <td>MSFT</td>\n",
       "      <td>10-Q</td>\n",
       "      <td>2022-01-25</td>\n",
       "      <td>72848600</td>\n",
       "      <td>-0.026588</td>\n",
       "      <td>3.121932e+07</td>\n",
       "      <td>-0.001085</td>\n",
       "      <td>-4.162928e+07</td>\n",
       "      <td>0.025503</td>\n",
       "    </tr>\n",
       "    <tr>\n",
       "      <th>2</th>\n",
       "      <td>320193</td>\n",
       "      <td>AAPL</td>\n",
       "      <td>10-Q</td>\n",
       "      <td>2022-04-29</td>\n",
       "      <td>131747600</td>\n",
       "      <td>-0.036605</td>\n",
       "      <td>8.791038e+07</td>\n",
       "      <td>-0.001097</td>\n",
       "      <td>-4.383722e+07</td>\n",
       "      <td>0.035508</td>\n",
       "    </tr>\n",
       "    <tr>\n",
       "      <th>3</th>\n",
       "      <td>789019</td>\n",
       "      <td>MSFT</td>\n",
       "      <td>10-Q</td>\n",
       "      <td>2022-04-26</td>\n",
       "      <td>46518400</td>\n",
       "      <td>-0.037404</td>\n",
       "      <td>3.121932e+07</td>\n",
       "      <td>-0.001085</td>\n",
       "      <td>-1.529908e+07</td>\n",
       "      <td>0.036318</td>\n",
       "    </tr>\n",
       "    <tr>\n",
       "      <th>4</th>\n",
       "      <td>320193</td>\n",
       "      <td>AAPL</td>\n",
       "      <td>10-Q</td>\n",
       "      <td>2022-07-29</td>\n",
       "      <td>101786900</td>\n",
       "      <td>0.032793</td>\n",
       "      <td>8.791038e+07</td>\n",
       "      <td>-0.001097</td>\n",
       "      <td>-1.387652e+07</td>\n",
       "      <td>-0.033890</td>\n",
       "    </tr>\n",
       "    <tr>\n",
       "      <th>5</th>\n",
       "      <td>789019</td>\n",
       "      <td>MSFT</td>\n",
       "      <td>10-Q</td>\n",
       "      <td>2022-10-25</td>\n",
       "      <td>34775500</td>\n",
       "      <td>0.013792</td>\n",
       "      <td>3.121932e+07</td>\n",
       "      <td>-0.001085</td>\n",
       "      <td>-3.556178e+06</td>\n",
       "      <td>-0.014877</td>\n",
       "    </tr>\n",
       "  </tbody>\n",
       "</table>\n",
       "</div>"
      ],
      "text/plain": [
       "      cik company_name  form filing_date     Volume  daily_returns  \\\n",
       "0  320193         AAPL  10-Q  2022-01-28  179935700       0.069778   \n",
       "1  789019         MSFT  10-Q  2022-01-25   72848600      -0.026588   \n",
       "2  320193         AAPL  10-Q  2022-04-29  131747600      -0.036605   \n",
       "3  789019         MSFT  10-Q  2022-04-26   46518400      -0.037404   \n",
       "4  320193         AAPL  10-Q  2022-07-29  101786900       0.032793   \n",
       "5  789019         MSFT  10-Q  2022-10-25   34775500       0.013792   \n",
       "\n",
       "    volume_mean  daily_returns_mean   volume_diff  daily_returns_diff  \n",
       "0  8.791038e+07           -0.001097 -9.202532e+07           -0.070874  \n",
       "1  3.121932e+07           -0.001085 -4.162928e+07            0.025503  \n",
       "2  8.791038e+07           -0.001097 -4.383722e+07            0.035508  \n",
       "3  3.121932e+07           -0.001085 -1.529908e+07            0.036318  \n",
       "4  8.791038e+07           -0.001097 -1.387652e+07           -0.033890  \n",
       "5  3.121932e+07           -0.001085 -3.556178e+06           -0.014877  "
      ]
     },
     "execution_count": 166,
     "metadata": {},
     "output_type": "execute_result"
    }
   ],
   "source": [
    "## Following dataframe shows summary stats of daily returns and volume and their difference from mean on the day of 10-Q filings\n",
    "## This is the data frame that should be used for merging with the Sentiments/TextAnalysis file\n",
    "\n",
    "df_10Q_filings_with_earnings"
   ]
  },
  {
   "cell_type": "code",
   "execution_count": 167,
   "id": "ea9e64da",
   "metadata": {},
   "outputs": [],
   "source": [
    "### Once sentiment analysis is ready then this dataframe should be joined with sentiment of the filing to give holistic picture"
   ]
  },
  {
   "cell_type": "code",
   "execution_count": 168,
   "id": "4b20d473",
   "metadata": {},
   "outputs": [],
   "source": [
    "##Task 7\n",
    "import statsmodels.api as sm\n",
    "import numpy as np"
   ]
  },
  {
   "cell_type": "code",
   "execution_count": 169,
   "id": "af6f6567",
   "metadata": {},
   "outputs": [
    {
     "data": {
      "text/plain": [
       "'/Users/kapildevarsh/Documents/Python Programming for Fintech/Python Group Project/Data7/SQL/'"
      ]
     },
     "execution_count": 169,
     "metadata": {},
     "output_type": "execute_result"
    }
   ],
   "source": [
    "sql_database_path"
   ]
  },
  {
   "cell_type": "code",
   "execution_count": 170,
   "id": "9f2c011d",
   "metadata": {},
   "outputs": [
    {
     "data": {
      "text/plain": [
       "'/Users/kapildevarsh/Documents/Python Programming for Fintech/Python Group Project/Data7/StocksY2022DailyData/'"
      ]
     },
     "execution_count": 170,
     "metadata": {},
     "output_type": "execute_result"
    }
   ],
   "source": [
    "daily_stock_data_folder"
   ]
  },
  {
   "cell_type": "code",
   "execution_count": 171,
   "id": "f23cd705",
   "metadata": {},
   "outputs": [],
   "source": [
    "df_stocks_data_overall = pd.DataFrame()\n",
    "for file_name in os.listdir(daily_stock_data_folder):\n",
    "    df_each_stock_data = pd.read_csv(f'{daily_stock_data_folder}{file_name}')\n",
    "    df_each_stock_data['company_name'] = file_name.split('_')[0]\n",
    "    df_stocks_data_overall = pd.concat([df_stocks_data_overall, df_each_stock_data])"
   ]
  },
  {
   "cell_type": "code",
   "execution_count": 172,
   "id": "7b20ce3b",
   "metadata": {},
   "outputs": [],
   "source": [
    "df_stocks_data_overall['daily_returns'] = df_stocks_data_overall.groupby('company_name')['Close'].pct_change()"
   ]
  },
  {
   "cell_type": "code",
   "execution_count": 173,
   "id": "dc2a8754",
   "metadata": {},
   "outputs": [
    {
     "data": {
      "text/html": [
       "<div>\n",
       "<style scoped>\n",
       "    .dataframe tbody tr th:only-of-type {\n",
       "        vertical-align: middle;\n",
       "    }\n",
       "\n",
       "    .dataframe tbody tr th {\n",
       "        vertical-align: top;\n",
       "    }\n",
       "\n",
       "    .dataframe thead th {\n",
       "        text-align: right;\n",
       "    }\n",
       "</style>\n",
       "<table border=\"1\" class=\"dataframe\">\n",
       "  <thead>\n",
       "    <tr style=\"text-align: right;\">\n",
       "      <th></th>\n",
       "      <th>Date</th>\n",
       "      <th>Open</th>\n",
       "      <th>High</th>\n",
       "      <th>Low</th>\n",
       "      <th>Close</th>\n",
       "      <th>Adj Close</th>\n",
       "      <th>Volume</th>\n",
       "      <th>company_name</th>\n",
       "      <th>daily_returns</th>\n",
       "    </tr>\n",
       "  </thead>\n",
       "  <tbody>\n",
       "    <tr>\n",
       "      <th>0</th>\n",
       "      <td>2022-01-03</td>\n",
       "      <td>177.830002</td>\n",
       "      <td>182.880005</td>\n",
       "      <td>177.710007</td>\n",
       "      <td>182.009995</td>\n",
       "      <td>179.953873</td>\n",
       "      <td>104487900</td>\n",
       "      <td>AAPL</td>\n",
       "      <td>NaN</td>\n",
       "    </tr>\n",
       "    <tr>\n",
       "      <th>1</th>\n",
       "      <td>2022-01-04</td>\n",
       "      <td>182.630005</td>\n",
       "      <td>182.940002</td>\n",
       "      <td>179.119995</td>\n",
       "      <td>179.699997</td>\n",
       "      <td>177.669968</td>\n",
       "      <td>99310400</td>\n",
       "      <td>AAPL</td>\n",
       "      <td>-0.012692</td>\n",
       "    </tr>\n",
       "    <tr>\n",
       "      <th>2</th>\n",
       "      <td>2022-01-05</td>\n",
       "      <td>179.610001</td>\n",
       "      <td>180.169998</td>\n",
       "      <td>174.639999</td>\n",
       "      <td>174.919998</td>\n",
       "      <td>172.944000</td>\n",
       "      <td>94537600</td>\n",
       "      <td>AAPL</td>\n",
       "      <td>-0.026600</td>\n",
       "    </tr>\n",
       "    <tr>\n",
       "      <th>3</th>\n",
       "      <td>2022-01-06</td>\n",
       "      <td>172.699997</td>\n",
       "      <td>175.300003</td>\n",
       "      <td>171.639999</td>\n",
       "      <td>172.000000</td>\n",
       "      <td>170.056976</td>\n",
       "      <td>96904000</td>\n",
       "      <td>AAPL</td>\n",
       "      <td>-0.016693</td>\n",
       "    </tr>\n",
       "    <tr>\n",
       "      <th>4</th>\n",
       "      <td>2022-01-07</td>\n",
       "      <td>172.889999</td>\n",
       "      <td>174.139999</td>\n",
       "      <td>171.029999</td>\n",
       "      <td>172.169998</td>\n",
       "      <td>170.225052</td>\n",
       "      <td>86709100</td>\n",
       "      <td>AAPL</td>\n",
       "      <td>0.000988</td>\n",
       "    </tr>\n",
       "  </tbody>\n",
       "</table>\n",
       "</div>"
      ],
      "text/plain": [
       "         Date        Open        High         Low       Close   Adj Close  \\\n",
       "0  2022-01-03  177.830002  182.880005  177.710007  182.009995  179.953873   \n",
       "1  2022-01-04  182.630005  182.940002  179.119995  179.699997  177.669968   \n",
       "2  2022-01-05  179.610001  180.169998  174.639999  174.919998  172.944000   \n",
       "3  2022-01-06  172.699997  175.300003  171.639999  172.000000  170.056976   \n",
       "4  2022-01-07  172.889999  174.139999  171.029999  172.169998  170.225052   \n",
       "\n",
       "      Volume company_name  daily_returns  \n",
       "0  104487900         AAPL            NaN  \n",
       "1   99310400         AAPL      -0.012692  \n",
       "2   94537600         AAPL      -0.026600  \n",
       "3   96904000         AAPL      -0.016693  \n",
       "4   86709100         AAPL       0.000988  "
      ]
     },
     "execution_count": 173,
     "metadata": {},
     "output_type": "execute_result"
    }
   ],
   "source": [
    "df_stocks_data_overall.head()"
   ]
  },
  {
   "cell_type": "code",
   "execution_count": 174,
   "id": "b3442ff4",
   "metadata": {},
   "outputs": [
    {
     "data": {
      "text/plain": [
       "count    5.020000e+02\n",
       "mean     5.956485e+07\n",
       "std      3.391384e+07\n",
       "min      9.200800e+06\n",
       "25%      2.912962e+07\n",
       "50%      5.464290e+07\n",
       "75%      8.449002e+07\n",
       "max      1.826020e+08\n",
       "Name: Volume, dtype: float64"
      ]
     },
     "execution_count": 174,
     "metadata": {},
     "output_type": "execute_result"
    }
   ],
   "source": [
    "## Stats related to overall volume across all stocks\n",
    "df_stocks_data_overall['Volume'].describe()"
   ]
  },
  {
   "cell_type": "code",
   "execution_count": 175,
   "id": "acc0c707",
   "metadata": {},
   "outputs": [
    {
     "data": {
      "text/html": [
       "<div>\n",
       "<style scoped>\n",
       "    .dataframe tbody tr th:only-of-type {\n",
       "        vertical-align: middle;\n",
       "    }\n",
       "\n",
       "    .dataframe tbody tr th {\n",
       "        vertical-align: top;\n",
       "    }\n",
       "\n",
       "    .dataframe thead th {\n",
       "        text-align: right;\n",
       "    }\n",
       "</style>\n",
       "<table border=\"1\" class=\"dataframe\">\n",
       "  <thead>\n",
       "    <tr style=\"text-align: right;\">\n",
       "      <th></th>\n",
       "      <th>count</th>\n",
       "      <th>mean</th>\n",
       "      <th>std</th>\n",
       "      <th>min</th>\n",
       "      <th>25%</th>\n",
       "      <th>50%</th>\n",
       "      <th>75%</th>\n",
       "      <th>max</th>\n",
       "    </tr>\n",
       "    <tr>\n",
       "      <th>company_name</th>\n",
       "      <th></th>\n",
       "      <th></th>\n",
       "      <th></th>\n",
       "      <th></th>\n",
       "      <th></th>\n",
       "      <th></th>\n",
       "      <th></th>\n",
       "      <th></th>\n",
       "    </tr>\n",
       "  </thead>\n",
       "  <tbody>\n",
       "    <tr>\n",
       "      <th>AAPL</th>\n",
       "      <td>251.0</td>\n",
       "      <td>8.791038e+07</td>\n",
       "      <td>2.365699e+07</td>\n",
       "      <td>35195900.0</td>\n",
       "      <td>72297400.0</td>\n",
       "      <td>83737200.0</td>\n",
       "      <td>96937050.0</td>\n",
       "      <td>182602000.0</td>\n",
       "    </tr>\n",
       "    <tr>\n",
       "      <th>MSFT</th>\n",
       "      <td>251.0</td>\n",
       "      <td>3.121932e+07</td>\n",
       "      <td>1.148387e+07</td>\n",
       "      <td>9200800.0</td>\n",
       "      <td>23334300.0</td>\n",
       "      <td>29043900.0</td>\n",
       "      <td>35292600.0</td>\n",
       "      <td>90428900.0</td>\n",
       "    </tr>\n",
       "  </tbody>\n",
       "</table>\n",
       "</div>"
      ],
      "text/plain": [
       "              count          mean           std         min         25%  \\\n",
       "company_name                                                              \n",
       "AAPL          251.0  8.791038e+07  2.365699e+07  35195900.0  72297400.0   \n",
       "MSFT          251.0  3.121932e+07  1.148387e+07   9200800.0  23334300.0   \n",
       "\n",
       "                     50%         75%          max  \n",
       "company_name                                       \n",
       "AAPL          83737200.0  96937050.0  182602000.0  \n",
       "MSFT          29043900.0  35292600.0   90428900.0  "
      ]
     },
     "execution_count": 175,
     "metadata": {},
     "output_type": "execute_result"
    }
   ],
   "source": [
    "## Stock Volume statistics for each company\n",
    "df_stocks_data_overall.groupby('company_name')['Volume'].describe()"
   ]
  },
  {
   "cell_type": "code",
   "execution_count": 176,
   "id": "24d71ff2",
   "metadata": {},
   "outputs": [],
   "source": [
    "df_stocks_vol_mean = df_stocks_data_overall.groupby('company_name')['Volume'].mean().to_frame().reset_index()\n",
    "df_stocks_vol_mean.columns = ['company_name', 'volume_mean']"
   ]
  },
  {
   "cell_type": "code",
   "execution_count": 177,
   "id": "00902f85",
   "metadata": {},
   "outputs": [
    {
     "data": {
      "text/html": [
       "<div>\n",
       "<style scoped>\n",
       "    .dataframe tbody tr th:only-of-type {\n",
       "        vertical-align: middle;\n",
       "    }\n",
       "\n",
       "    .dataframe tbody tr th {\n",
       "        vertical-align: top;\n",
       "    }\n",
       "\n",
       "    .dataframe thead th {\n",
       "        text-align: right;\n",
       "    }\n",
       "</style>\n",
       "<table border=\"1\" class=\"dataframe\">\n",
       "  <thead>\n",
       "    <tr style=\"text-align: right;\">\n",
       "      <th></th>\n",
       "      <th>company_name</th>\n",
       "      <th>volume_mean</th>\n",
       "    </tr>\n",
       "  </thead>\n",
       "  <tbody>\n",
       "    <tr>\n",
       "      <th>0</th>\n",
       "      <td>AAPL</td>\n",
       "      <td>8.791038e+07</td>\n",
       "    </tr>\n",
       "    <tr>\n",
       "      <th>1</th>\n",
       "      <td>MSFT</td>\n",
       "      <td>3.121932e+07</td>\n",
       "    </tr>\n",
       "  </tbody>\n",
       "</table>\n",
       "</div>"
      ],
      "text/plain": [
       "  company_name   volume_mean\n",
       "0         AAPL  8.791038e+07\n",
       "1         MSFT  3.121932e+07"
      ]
     },
     "execution_count": 177,
     "metadata": {},
     "output_type": "execute_result"
    }
   ],
   "source": [
    "## volume mean of each company\n",
    "df_stocks_vol_mean"
   ]
  },
  {
   "cell_type": "code",
   "execution_count": 178,
   "id": "b8662516",
   "metadata": {},
   "outputs": [
    {
     "data": {
      "text/html": [
       "<div>\n",
       "<style scoped>\n",
       "    .dataframe tbody tr th:only-of-type {\n",
       "        vertical-align: middle;\n",
       "    }\n",
       "\n",
       "    .dataframe tbody tr th {\n",
       "        vertical-align: top;\n",
       "    }\n",
       "\n",
       "    .dataframe thead th {\n",
       "        text-align: right;\n",
       "    }\n",
       "</style>\n",
       "<table border=\"1\" class=\"dataframe\">\n",
       "  <thead>\n",
       "    <tr style=\"text-align: right;\">\n",
       "      <th></th>\n",
       "      <th>count</th>\n",
       "      <th>mean</th>\n",
       "      <th>std</th>\n",
       "      <th>min</th>\n",
       "      <th>25%</th>\n",
       "      <th>50%</th>\n",
       "      <th>75%</th>\n",
       "      <th>max</th>\n",
       "    </tr>\n",
       "    <tr>\n",
       "      <th>company_name</th>\n",
       "      <th></th>\n",
       "      <th></th>\n",
       "      <th></th>\n",
       "      <th></th>\n",
       "      <th></th>\n",
       "      <th></th>\n",
       "      <th></th>\n",
       "      <th></th>\n",
       "    </tr>\n",
       "  </thead>\n",
       "  <tbody>\n",
       "    <tr>\n",
       "      <th>AAPL</th>\n",
       "      <td>250.0</td>\n",
       "      <td>-0.001097</td>\n",
       "      <td>0.022471</td>\n",
       "      <td>-0.058680</td>\n",
       "      <td>-0.015816</td>\n",
       "      <td>-0.001360</td>\n",
       "      <td>0.013388</td>\n",
       "      <td>0.088975</td>\n",
       "    </tr>\n",
       "    <tr>\n",
       "      <th>MSFT</th>\n",
       "      <td>250.0</td>\n",
       "      <td>-0.001085</td>\n",
       "      <td>0.022308</td>\n",
       "      <td>-0.077156</td>\n",
       "      <td>-0.014975</td>\n",
       "      <td>-0.001939</td>\n",
       "      <td>0.012852</td>\n",
       "      <td>0.082268</td>\n",
       "    </tr>\n",
       "  </tbody>\n",
       "</table>\n",
       "</div>"
      ],
      "text/plain": [
       "              count      mean       std       min       25%       50%  \\\n",
       "company_name                                                            \n",
       "AAPL          250.0 -0.001097  0.022471 -0.058680 -0.015816 -0.001360   \n",
       "MSFT          250.0 -0.001085  0.022308 -0.077156 -0.014975 -0.001939   \n",
       "\n",
       "                   75%       max  \n",
       "company_name                      \n",
       "AAPL          0.013388  0.088975  \n",
       "MSFT          0.012852  0.082268  "
      ]
     },
     "execution_count": 178,
     "metadata": {},
     "output_type": "execute_result"
    }
   ],
   "source": [
    "## Daily returns \n",
    "df_stocks_data_overall.groupby('company_name')['daily_returns'].describe()"
   ]
  },
  {
   "cell_type": "code",
   "execution_count": 179,
   "id": "8d687abf",
   "metadata": {},
   "outputs": [],
   "source": [
    "df_stocks_daily_returns_mean = df_stocks_data_overall.groupby('company_name')['daily_returns'].mean().to_frame().reset_index()"
   ]
  },
  {
   "cell_type": "code",
   "execution_count": 180,
   "id": "69f49d1e",
   "metadata": {},
   "outputs": [],
   "source": [
    "df_stocks_daily_returns_mean.columns = ['company_name','daily_returns_mean']"
   ]
  },
  {
   "cell_type": "code",
   "execution_count": 181,
   "id": "d8fe2f2f",
   "metadata": {},
   "outputs": [
    {
     "data": {
      "text/html": [
       "<div>\n",
       "<style scoped>\n",
       "    .dataframe tbody tr th:only-of-type {\n",
       "        vertical-align: middle;\n",
       "    }\n",
       "\n",
       "    .dataframe tbody tr th {\n",
       "        vertical-align: top;\n",
       "    }\n",
       "\n",
       "    .dataframe thead th {\n",
       "        text-align: right;\n",
       "    }\n",
       "</style>\n",
       "<table border=\"1\" class=\"dataframe\">\n",
       "  <thead>\n",
       "    <tr style=\"text-align: right;\">\n",
       "      <th></th>\n",
       "      <th>company_name</th>\n",
       "      <th>daily_returns_mean</th>\n",
       "    </tr>\n",
       "  </thead>\n",
       "  <tbody>\n",
       "    <tr>\n",
       "      <th>0</th>\n",
       "      <td>AAPL</td>\n",
       "      <td>-0.001097</td>\n",
       "    </tr>\n",
       "    <tr>\n",
       "      <th>1</th>\n",
       "      <td>MSFT</td>\n",
       "      <td>-0.001085</td>\n",
       "    </tr>\n",
       "  </tbody>\n",
       "</table>\n",
       "</div>"
      ],
      "text/plain": [
       "  company_name  daily_returns_mean\n",
       "0         AAPL           -0.001097\n",
       "1         MSFT           -0.001085"
      ]
     },
     "execution_count": 181,
     "metadata": {},
     "output_type": "execute_result"
    }
   ],
   "source": [
    "df_stocks_daily_returns_mean"
   ]
  },
  {
   "cell_type": "code",
   "execution_count": 321,
   "id": "7102066a",
   "metadata": {},
   "outputs": [],
   "source": [
    "import matplotlib.pyplot as plt"
   ]
  },
  {
   "cell_type": "code",
   "execution_count": 322,
   "id": "8bcc5ad2",
   "metadata": {},
   "outputs": [
    {
     "name": "stdout",
     "output_type": "stream",
     "text": [
      "        cik  QuarterNo     form  \\\n",
      "0    320193          1     10-Q   \n",
      "1    320193          1        4   \n",
      "2    320193          1        4   \n",
      "3    320193          1        4   \n",
      "4    320193          1        4   \n",
      "..      ...        ...      ...   \n",
      "203  789019          4      8-K   \n",
      "204  789019          4  DEF 14A   \n",
      "205  789019          4  DEFA14A   \n",
      "206  789019          4  PX14A6G   \n",
      "207  789019          4  PX14A6G   \n",
      "\n",
      "                                        FilingFilePath  FilingDate  \n",
      "0    /Users/kapildevarsh/Documents/Python Programmi...  2022-01-28  \n",
      "1    /Users/kapildevarsh/Documents/Python Programmi...  2022-02-03  \n",
      "2    /Users/kapildevarsh/Documents/Python Programmi...  2022-02-03  \n",
      "3    /Users/kapildevarsh/Documents/Python Programmi...  2022-02-03  \n",
      "4    /Users/kapildevarsh/Documents/Python Programmi...  2022-02-03  \n",
      "..                                                 ...         ...  \n",
      "203  /Users/kapildevarsh/Documents/Python Programmi...  2022-12-16  \n",
      "204  /Users/kapildevarsh/Documents/Python Programmi...  2022-10-27  \n",
      "205  /Users/kapildevarsh/Documents/Python Programmi...  2022-10-27  \n",
      "206  /Users/kapildevarsh/Documents/Python Programmi...  2022-11-04  \n",
      "207  /Users/kapildevarsh/Documents/Python Programmi...  2022-11-21  \n",
      "\n",
      "[208 rows x 5 columns]\n"
     ]
    }
   ],
   "source": [
    "sqlquery = \"SELECT * FROM EdgarSECFilings\"\n",
    "# sqlquery = 'select a.cik, b.ticker ,`a.2022Q`, a.form, a.FilingPath from  EdgarSECFilings as a left join EdgarFilingsStockFinancials on a.cik = b.cik as b where a.form=\"10-Q\"'\n",
    "df = FetchSqlResultsDatabase(sqlquery)\n",
    "print(df)"
   ]
  },
  {
   "cell_type": "code",
   "execution_count": 323,
   "id": "60a37b85",
   "metadata": {},
   "outputs": [
    {
     "name": "stdout",
     "output_type": "stream",
     "text": [
      "      cik ticker  form                                     FilingFilePath\n",
      "0  320193   AAPL  10-Q  /Users/kapildevarsh/Documents/Python Programmi...\n",
      "1  789019   MSFT  10-Q  /Users/kapildevarsh/Documents/Python Programmi...\n",
      "2  320193   AAPL  10-Q  /Users/kapildevarsh/Documents/Python Programmi...\n",
      "3  789019   MSFT  10-Q  /Users/kapildevarsh/Documents/Python Programmi...\n",
      "4  320193   AAPL  10-Q  /Users/kapildevarsh/Documents/Python Programmi...\n",
      "5  789019   MSFT  10-Q  /Users/kapildevarsh/Documents/Python Programmi...\n"
     ]
    }
   ],
   "source": [
    "sqlquery = 'select a.cik, b.ticker , a.form, a.FilingFilePath from  EdgarSECFilings  a left join EdgarFilingsStockFinancials  b on a.cik = b.cik  where form=\"10-Q\"'\n",
    "# sqlquery = 'select a.cik, b.ticker ,`a.2022Q`, a.form, a.FilingPath from  EdgarSECFilings as a left join EdgarFilingsStockFinancials on a.cik = b.cik as b where a.form=\"10-Q\"'\n",
    "df_10Q_filings = FetchSqlResultsDatabase(sqlquery)\n",
    "print(df_10Q_filings)"
   ]
  },
  {
   "cell_type": "code",
   "execution_count": 324,
   "id": "71f277a3",
   "metadata": {},
   "outputs": [
    {
     "name": "stdout",
     "output_type": "stream",
     "text": [
      "         cik ticker                           title\n",
      "0     320193   AAPL                      Apple Inc.\n",
      "1     789019   MSFT                  MICROSOFT CORP\n",
      "2    1652044  GOOGL                   Alphabet Inc.\n",
      "3    1018724   AMZN                  AMAZON COM INC\n",
      "4    1045810   NVDA                     NVIDIA CORP\n",
      "..       ...    ...                             ...\n",
      "235   702165    NSC           NORFOLK SOUTHERN CORP\n",
      "236  1858681    APO  Apollo Global Management, Inc.\n",
      "237  1947559  ANZGY  ANZ GROUP HOLDINGS LIMITED/ADR\n",
      "238  1835632   MRVL        Marvell Technology, Inc.\n",
      "239   797468    OXY  OCCIDENTAL PETROLEUM CORP /DE/\n",
      "\n",
      "[240 rows x 3 columns]\n"
     ]
    }
   ],
   "source": [
    "sqlquery2 = \"SELECT * FROM EdgarFilingsStockFinancials\"\n",
    "df_fin = FetchSqlResultsDatabase(sqlquery2)\n",
    "print(df_fin)"
   ]
  },
  {
   "cell_type": "code",
   "execution_count": 325,
   "id": "ef0662ef",
   "metadata": {},
   "outputs": [],
   "source": [
    "# List target forms as strings separated by commas (case sensitive) or\n",
    "#   load from EDGAR_Forms.  (See EDGAR_Forms module for predefined lists.)\n",
    "PARM_FORMS = ['10-Q']  # or, for example, PARM_FORMS = ['8-K', '8-K/A']\n",
    "PARM_BGNYEAR = 2022  # User selected bgn period.   \n",
    "PARM_ENDYEAR = 2023  # User selected end period.\n",
    "PARM_BGNQTR = 1 # Beginning quarter of each year\n",
    "PARM_ENDQTR = 1 # Ending quarter of each year\n",
    "PARM_CIKS = [789019, 320193]"
   ]
  },
  {
   "cell_type": "code",
   "execution_count": 327,
   "id": "de6a8cfa",
   "metadata": {},
   "outputs": [
    {
     "data": {
      "text/plain": [
       "'/Users/kapildevarsh/Documents/Python Programming for Fintech/Python Group Project/Data8/TextualAnalysisData'"
      ]
     },
     "execution_count": 327,
     "metadata": {},
     "output_type": "execute_result"
    }
   ],
   "source": [
    "textual_analysis_path "
   ]
  },
  {
   "cell_type": "code",
   "execution_count": 331,
   "id": "ec68d360",
   "metadata": {},
   "outputs": [],
   "source": [
    "import shutil\n",
    "src = base_local_path + '/Sample/SampleTextAnalysis.csv'\n",
    "my_file = Path(textual_analysis_path + '/SampleTextAnalysis.csv')\n",
    "if my_file.exists():\n",
    "    Text=pd.read_csv(textual_analysis_path + '/SampleTextAnalysis.csv')\n",
    "else:\n",
    "    shutil.copy(src, textual_analysis_path)"
   ]
  },
  {
   "cell_type": "code",
   "execution_count": 332,
   "id": "38cb8a31",
   "metadata": {},
   "outputs": [
    {
     "data": {
      "text/html": [
       "<div>\n",
       "<style scoped>\n",
       "    .dataframe tbody tr th:only-of-type {\n",
       "        vertical-align: middle;\n",
       "    }\n",
       "\n",
       "    .dataframe tbody tr th {\n",
       "        vertical-align: top;\n",
       "    }\n",
       "\n",
       "    .dataframe thead th {\n",
       "        text-align: right;\n",
       "    }\n",
       "</style>\n",
       "<table border=\"1\" class=\"dataframe\">\n",
       "  <thead>\n",
       "    <tr style=\"text-align: right;\">\n",
       "      <th></th>\n",
       "      <th>file size</th>\n",
       "      <th>number of words</th>\n",
       "      <th>negative</th>\n",
       "      <th>positive</th>\n",
       "      <th>uncertainty</th>\n",
       "      <th>litigious</th>\n",
       "      <th>% strong modal</th>\n",
       "      <th>% weak modal</th>\n",
       "      <th>% constraining</th>\n",
       "      <th># of alphabetic</th>\n",
       "      <th># of digits</th>\n",
       "      <th># of numbers</th>\n",
       "      <th>avg # of syllables per word</th>\n",
       "      <th>average word length</th>\n",
       "      <th>vocabulary</th>\n",
       "      <th>filing_date</th>\n",
       "      <th>cik</th>\n",
       "      <th>ticker</th>\n",
       "    </tr>\n",
       "  </thead>\n",
       "  <tbody>\n",
       "    <tr>\n",
       "      <th>0</th>\n",
       "      <td>5669738</td>\n",
       "      <td>325651</td>\n",
       "      <td>0.333179</td>\n",
       "      <td>1.329951</td>\n",
       "      <td>0.111469</td>\n",
       "      <td>0.847840</td>\n",
       "      <td>0.018118</td>\n",
       "      <td>0.035314</td>\n",
       "      <td>0.106863</td>\n",
       "      <td>3724026</td>\n",
       "      <td>506259</td>\n",
       "      <td>84992</td>\n",
       "      <td>1.644795</td>\n",
       "      <td>5.263632</td>\n",
       "      <td>2371</td>\n",
       "      <td>2022-01-28</td>\n",
       "      <td>320193</td>\n",
       "      <td>AAPL</td>\n",
       "    </tr>\n",
       "    <tr>\n",
       "      <th>1</th>\n",
       "      <td>21933190</td>\n",
       "      <td>1984986</td>\n",
       "      <td>0.159145</td>\n",
       "      <td>0.402925</td>\n",
       "      <td>1.170386</td>\n",
       "      <td>0.214158</td>\n",
       "      <td>0.008212</td>\n",
       "      <td>0.020605</td>\n",
       "      <td>0.030277</td>\n",
       "      <td>14678175</td>\n",
       "      <td>1299576</td>\n",
       "      <td>226375</td>\n",
       "      <td>1.502127</td>\n",
       "      <td>5.072221</td>\n",
       "      <td>3398</td>\n",
       "      <td>2022-01-25</td>\n",
       "      <td>789019</td>\n",
       "      <td>MSFT</td>\n",
       "    </tr>\n",
       "    <tr>\n",
       "      <th>2</th>\n",
       "      <td>6140830</td>\n",
       "      <td>350763</td>\n",
       "      <td>0.291080</td>\n",
       "      <td>1.236162</td>\n",
       "      <td>0.092370</td>\n",
       "      <td>0.741241</td>\n",
       "      <td>0.013114</td>\n",
       "      <td>0.022807</td>\n",
       "      <td>0.078686</td>\n",
       "      <td>4039341</td>\n",
       "      <td>572150</td>\n",
       "      <td>93663</td>\n",
       "      <td>1.640940</td>\n",
       "      <td>5.276027</td>\n",
       "      <td>2056</td>\n",
       "      <td>2022-04-29</td>\n",
       "      <td>320193</td>\n",
       "      <td>AAPL</td>\n",
       "    </tr>\n",
       "    <tr>\n",
       "      <th>3</th>\n",
       "      <td>22314349</td>\n",
       "      <td>2015021</td>\n",
       "      <td>0.162777</td>\n",
       "      <td>0.406596</td>\n",
       "      <td>1.191898</td>\n",
       "      <td>0.213100</td>\n",
       "      <td>0.008238</td>\n",
       "      <td>0.020397</td>\n",
       "      <td>0.029975</td>\n",
       "      <td>14928132</td>\n",
       "      <td>1326806</td>\n",
       "      <td>231273</td>\n",
       "      <td>1.503259</td>\n",
       "      <td>5.075495</td>\n",
       "      <td>3421</td>\n",
       "      <td>2022-04-26</td>\n",
       "      <td>789019</td>\n",
       "      <td>MSFT</td>\n",
       "    </tr>\n",
       "    <tr>\n",
       "      <th>4</th>\n",
       "      <td>6109979</td>\n",
       "      <td>347625</td>\n",
       "      <td>0.296296</td>\n",
       "      <td>1.245883</td>\n",
       "      <td>0.091766</td>\n",
       "      <td>0.745919</td>\n",
       "      <td>0.012657</td>\n",
       "      <td>0.022150</td>\n",
       "      <td>0.078245</td>\n",
       "      <td>4016660</td>\n",
       "      <td>569732</td>\n",
       "      <td>92958</td>\n",
       "      <td>1.641605</td>\n",
       "      <td>5.276516</td>\n",
       "      <td>2025</td>\n",
       "      <td>2022-07-29</td>\n",
       "      <td>320193</td>\n",
       "      <td>AAPL</td>\n",
       "    </tr>\n",
       "  </tbody>\n",
       "</table>\n",
       "</div>"
      ],
      "text/plain": [
       "   file size  number of words  negative  positive  uncertainty  litigious  \\\n",
       "0    5669738           325651  0.333179  1.329951     0.111469   0.847840   \n",
       "1   21933190          1984986  0.159145  0.402925     1.170386   0.214158   \n",
       "2    6140830           350763  0.291080  1.236162     0.092370   0.741241   \n",
       "3   22314349          2015021  0.162777  0.406596     1.191898   0.213100   \n",
       "4    6109979           347625  0.296296  1.245883     0.091766   0.745919   \n",
       "\n",
       "   % strong modal  % weak modal  % constraining  # of alphabetic  # of digits  \\\n",
       "0        0.018118      0.035314        0.106863          3724026       506259   \n",
       "1        0.008212      0.020605        0.030277         14678175      1299576   \n",
       "2        0.013114      0.022807        0.078686          4039341       572150   \n",
       "3        0.008238      0.020397        0.029975         14928132      1326806   \n",
       "4        0.012657      0.022150        0.078245          4016660       569732   \n",
       "\n",
       "   # of numbers  avg # of syllables per word  average word length  vocabulary  \\\n",
       "0         84992                     1.644795             5.263632        2371   \n",
       "1        226375                     1.502127             5.072221        3398   \n",
       "2         93663                     1.640940             5.276027        2056   \n",
       "3        231273                     1.503259             5.075495        3421   \n",
       "4         92958                     1.641605             5.276516        2025   \n",
       "\n",
       "  filing_date     cik ticker  \n",
       "0  2022-01-28  320193   AAPL  \n",
       "1  2022-01-25  789019   MSFT  \n",
       "2  2022-04-29  320193   AAPL  \n",
       "3  2022-04-26  789019   MSFT  \n",
       "4  2022-07-29  320193   AAPL  "
      ]
     },
     "execution_count": 332,
     "metadata": {},
     "output_type": "execute_result"
    }
   ],
   "source": [
    "Text['filing_date'] = pd.to_datetime(Text['filing_date'], format='%Y%m%d')\n",
    "Text.head()\n",
    "#Need to update data - add FilingDate column in the csv file beforehand"
   ]
  },
  {
   "cell_type": "code",
   "execution_count": 334,
   "id": "77d4edcb",
   "metadata": {},
   "outputs": [
    {
     "data": {
      "text/html": [
       "<div>\n",
       "<style scoped>\n",
       "    .dataframe tbody tr th:only-of-type {\n",
       "        vertical-align: middle;\n",
       "    }\n",
       "\n",
       "    .dataframe tbody tr th {\n",
       "        vertical-align: top;\n",
       "    }\n",
       "\n",
       "    .dataframe thead th {\n",
       "        text-align: right;\n",
       "    }\n",
       "</style>\n",
       "<table border=\"1\" class=\"dataframe\">\n",
       "  <thead>\n",
       "    <tr style=\"text-align: right;\">\n",
       "      <th></th>\n",
       "      <th>file size</th>\n",
       "      <th>number of words</th>\n",
       "      <th>negative</th>\n",
       "      <th>positive</th>\n",
       "      <th>uncertainty</th>\n",
       "      <th>litigious</th>\n",
       "      <th>% strong modal</th>\n",
       "      <th>% weak modal</th>\n",
       "      <th>% constraining</th>\n",
       "      <th># of alphabetic</th>\n",
       "      <th># of digits</th>\n",
       "      <th># of numbers</th>\n",
       "      <th>avg # of syllables per word</th>\n",
       "      <th>average word length</th>\n",
       "      <th>vocabulary</th>\n",
       "      <th>filing_date</th>\n",
       "      <th>cik</th>\n",
       "      <th>ticker</th>\n",
       "    </tr>\n",
       "  </thead>\n",
       "  <tbody>\n",
       "    <tr>\n",
       "      <th>0</th>\n",
       "      <td>5669738</td>\n",
       "      <td>325651</td>\n",
       "      <td>0.333179</td>\n",
       "      <td>1.329951</td>\n",
       "      <td>0.111469</td>\n",
       "      <td>0.847840</td>\n",
       "      <td>0.018118</td>\n",
       "      <td>0.035314</td>\n",
       "      <td>0.106863</td>\n",
       "      <td>3724026</td>\n",
       "      <td>506259</td>\n",
       "      <td>84992</td>\n",
       "      <td>1.644795</td>\n",
       "      <td>5.263632</td>\n",
       "      <td>2371</td>\n",
       "      <td>2022-01-28</td>\n",
       "      <td>320193</td>\n",
       "      <td>AAPL</td>\n",
       "    </tr>\n",
       "    <tr>\n",
       "      <th>1</th>\n",
       "      <td>21933190</td>\n",
       "      <td>1984986</td>\n",
       "      <td>0.159145</td>\n",
       "      <td>0.402925</td>\n",
       "      <td>1.170386</td>\n",
       "      <td>0.214158</td>\n",
       "      <td>0.008212</td>\n",
       "      <td>0.020605</td>\n",
       "      <td>0.030277</td>\n",
       "      <td>14678175</td>\n",
       "      <td>1299576</td>\n",
       "      <td>226375</td>\n",
       "      <td>1.502127</td>\n",
       "      <td>5.072221</td>\n",
       "      <td>3398</td>\n",
       "      <td>2022-01-25</td>\n",
       "      <td>789019</td>\n",
       "      <td>MSFT</td>\n",
       "    </tr>\n",
       "    <tr>\n",
       "      <th>2</th>\n",
       "      <td>6140830</td>\n",
       "      <td>350763</td>\n",
       "      <td>0.291080</td>\n",
       "      <td>1.236162</td>\n",
       "      <td>0.092370</td>\n",
       "      <td>0.741241</td>\n",
       "      <td>0.013114</td>\n",
       "      <td>0.022807</td>\n",
       "      <td>0.078686</td>\n",
       "      <td>4039341</td>\n",
       "      <td>572150</td>\n",
       "      <td>93663</td>\n",
       "      <td>1.640940</td>\n",
       "      <td>5.276027</td>\n",
       "      <td>2056</td>\n",
       "      <td>2022-04-29</td>\n",
       "      <td>320193</td>\n",
       "      <td>AAPL</td>\n",
       "    </tr>\n",
       "    <tr>\n",
       "      <th>3</th>\n",
       "      <td>22314349</td>\n",
       "      <td>2015021</td>\n",
       "      <td>0.162777</td>\n",
       "      <td>0.406596</td>\n",
       "      <td>1.191898</td>\n",
       "      <td>0.213100</td>\n",
       "      <td>0.008238</td>\n",
       "      <td>0.020397</td>\n",
       "      <td>0.029975</td>\n",
       "      <td>14928132</td>\n",
       "      <td>1326806</td>\n",
       "      <td>231273</td>\n",
       "      <td>1.503259</td>\n",
       "      <td>5.075495</td>\n",
       "      <td>3421</td>\n",
       "      <td>2022-04-26</td>\n",
       "      <td>789019</td>\n",
       "      <td>MSFT</td>\n",
       "    </tr>\n",
       "    <tr>\n",
       "      <th>4</th>\n",
       "      <td>6109979</td>\n",
       "      <td>347625</td>\n",
       "      <td>0.296296</td>\n",
       "      <td>1.245883</td>\n",
       "      <td>0.091766</td>\n",
       "      <td>0.745919</td>\n",
       "      <td>0.012657</td>\n",
       "      <td>0.022150</td>\n",
       "      <td>0.078245</td>\n",
       "      <td>4016660</td>\n",
       "      <td>569732</td>\n",
       "      <td>92958</td>\n",
       "      <td>1.641605</td>\n",
       "      <td>5.276516</td>\n",
       "      <td>2025</td>\n",
       "      <td>2022-07-29</td>\n",
       "      <td>320193</td>\n",
       "      <td>AAPL</td>\n",
       "    </tr>\n",
       "  </tbody>\n",
       "</table>\n",
       "</div>"
      ],
      "text/plain": [
       "   file size  number of words  negative  positive  uncertainty  litigious  \\\n",
       "0    5669738           325651  0.333179  1.329951     0.111469   0.847840   \n",
       "1   21933190          1984986  0.159145  0.402925     1.170386   0.214158   \n",
       "2    6140830           350763  0.291080  1.236162     0.092370   0.741241   \n",
       "3   22314349          2015021  0.162777  0.406596     1.191898   0.213100   \n",
       "4    6109979           347625  0.296296  1.245883     0.091766   0.745919   \n",
       "\n",
       "   % strong modal  % weak modal  % constraining  # of alphabetic  # of digits  \\\n",
       "0        0.018118      0.035314        0.106863          3724026       506259   \n",
       "1        0.008212      0.020605        0.030277         14678175      1299576   \n",
       "2        0.013114      0.022807        0.078686          4039341       572150   \n",
       "3        0.008238      0.020397        0.029975         14928132      1326806   \n",
       "4        0.012657      0.022150        0.078245          4016660       569732   \n",
       "\n",
       "   # of numbers  avg # of syllables per word  average word length  vocabulary  \\\n",
       "0         84992                     1.644795             5.263632        2371   \n",
       "1        226375                     1.502127             5.072221        3398   \n",
       "2         93663                     1.640940             5.276027        2056   \n",
       "3        231273                     1.503259             5.075495        3421   \n",
       "4         92958                     1.641605             5.276516        2025   \n",
       "\n",
       "  filing_date     cik ticker  \n",
       "0  2022-01-28  320193   AAPL  \n",
       "1  2022-01-25  789019   MSFT  \n",
       "2  2022-04-29  320193   AAPL  \n",
       "3  2022-04-26  789019   MSFT  \n",
       "4  2022-07-29  320193   AAPL  "
      ]
     },
     "execution_count": 334,
     "metadata": {},
     "output_type": "execute_result"
    }
   ],
   "source": [
    "#Text.drop(columns='file name', axis=1, inplace=True)\n",
    "Text.head()"
   ]
  },
  {
   "cell_type": "code",
   "execution_count": 335,
   "id": "2f42e6ea",
   "metadata": {},
   "outputs": [],
   "source": [
    "df_stocks_data_overall['Date'] = pd.to_datetime(df_stocks_data_overall['Date'], format='%Y-%m-%d')"
   ]
  },
  {
   "cell_type": "code",
   "execution_count": 336,
   "id": "08e22067",
   "metadata": {},
   "outputs": [],
   "source": [
    "## The column names for Date in both dataframes are different and need to be same for joining on Date col\n",
    "Text_earnings = pd.merge(Text, df_stocks_data_overall[['company_name', 'Date','Volume','daily_returns']], how='left', left_on=['ticker','filing_date'], right_on=['company_name','Date'])"
   ]
  },
  {
   "cell_type": "code",
   "execution_count": 337,
   "id": "15ba7f1a",
   "metadata": {},
   "outputs": [],
   "source": [
    "Text_earnings_price = pd.merge(Text, df_stocks_data_overall[['company_name', 'Date','Volume','daily_returns']], how='left', left_on=['ticker','filing_date'], right_on=['company_name','Date'])"
   ]
  },
  {
   "cell_type": "code",
   "execution_count": 364,
   "id": "ddb360ec",
   "metadata": {},
   "outputs": [
    {
     "data": {
      "text/html": [
       "<div>\n",
       "<style scoped>\n",
       "    .dataframe tbody tr th:only-of-type {\n",
       "        vertical-align: middle;\n",
       "    }\n",
       "\n",
       "    .dataframe tbody tr th {\n",
       "        vertical-align: top;\n",
       "    }\n",
       "\n",
       "    .dataframe thead th {\n",
       "        text-align: right;\n",
       "    }\n",
       "</style>\n",
       "<table border=\"1\" class=\"dataframe\">\n",
       "  <thead>\n",
       "    <tr style=\"text-align: right;\">\n",
       "      <th></th>\n",
       "      <th>company_name</th>\n",
       "      <th>cik</th>\n",
       "      <th>positive</th>\n",
       "      <th>litigious</th>\n",
       "      <th>uncertainty</th>\n",
       "      <th>Volume</th>\n",
       "      <th>daily_returns</th>\n",
       "      <th>volume_mean_x</th>\n",
       "      <th>daily_returns_mean_x</th>\n",
       "      <th>volume_diff</th>\n",
       "      <th>daily_returns_diff</th>\n",
       "      <th>volume_mean_y</th>\n",
       "      <th>daily_returns_mean_y</th>\n",
       "    </tr>\n",
       "  </thead>\n",
       "  <tbody>\n",
       "    <tr>\n",
       "      <th>0</th>\n",
       "      <td>AAPL</td>\n",
       "      <td>320193</td>\n",
       "      <td>1.329951</td>\n",
       "      <td>0.847840</td>\n",
       "      <td>0.111469</td>\n",
       "      <td>179935700</td>\n",
       "      <td>0.069778</td>\n",
       "      <td>8.791038e+07</td>\n",
       "      <td>-0.001097</td>\n",
       "      <td>-9.202532e+07</td>\n",
       "      <td>-0.070874</td>\n",
       "      <td>8.791038e+07</td>\n",
       "      <td>-0.001097</td>\n",
       "    </tr>\n",
       "    <tr>\n",
       "      <th>1</th>\n",
       "      <td>MSFT</td>\n",
       "      <td>789019</td>\n",
       "      <td>0.402925</td>\n",
       "      <td>0.214158</td>\n",
       "      <td>1.170386</td>\n",
       "      <td>72848600</td>\n",
       "      <td>-0.026588</td>\n",
       "      <td>3.121932e+07</td>\n",
       "      <td>-0.001085</td>\n",
       "      <td>-4.162928e+07</td>\n",
       "      <td>0.025503</td>\n",
       "      <td>3.121932e+07</td>\n",
       "      <td>-0.001085</td>\n",
       "    </tr>\n",
       "    <tr>\n",
       "      <th>2</th>\n",
       "      <td>AAPL</td>\n",
       "      <td>320193</td>\n",
       "      <td>1.236162</td>\n",
       "      <td>0.741241</td>\n",
       "      <td>0.092370</td>\n",
       "      <td>131747600</td>\n",
       "      <td>-0.036605</td>\n",
       "      <td>8.791038e+07</td>\n",
       "      <td>-0.001097</td>\n",
       "      <td>-4.383722e+07</td>\n",
       "      <td>0.035508</td>\n",
       "      <td>8.791038e+07</td>\n",
       "      <td>-0.001097</td>\n",
       "    </tr>\n",
       "    <tr>\n",
       "      <th>3</th>\n",
       "      <td>MSFT</td>\n",
       "      <td>789019</td>\n",
       "      <td>0.406596</td>\n",
       "      <td>0.213100</td>\n",
       "      <td>1.191898</td>\n",
       "      <td>46518400</td>\n",
       "      <td>-0.037404</td>\n",
       "      <td>3.121932e+07</td>\n",
       "      <td>-0.001085</td>\n",
       "      <td>-1.529908e+07</td>\n",
       "      <td>0.036318</td>\n",
       "      <td>3.121932e+07</td>\n",
       "      <td>-0.001085</td>\n",
       "    </tr>\n",
       "    <tr>\n",
       "      <th>4</th>\n",
       "      <td>AAPL</td>\n",
       "      <td>320193</td>\n",
       "      <td>1.245883</td>\n",
       "      <td>0.745919</td>\n",
       "      <td>0.091766</td>\n",
       "      <td>101786900</td>\n",
       "      <td>0.032793</td>\n",
       "      <td>8.791038e+07</td>\n",
       "      <td>-0.001097</td>\n",
       "      <td>-1.387652e+07</td>\n",
       "      <td>-0.033890</td>\n",
       "      <td>8.791038e+07</td>\n",
       "      <td>-0.001097</td>\n",
       "    </tr>\n",
       "    <tr>\n",
       "      <th>5</th>\n",
       "      <td>MSFT</td>\n",
       "      <td>789019</td>\n",
       "      <td>0.486061</td>\n",
       "      <td>0.262336</td>\n",
       "      <td>1.243126</td>\n",
       "      <td>34775500</td>\n",
       "      <td>0.013792</td>\n",
       "      <td>3.121932e+07</td>\n",
       "      <td>-0.001085</td>\n",
       "      <td>-3.556178e+06</td>\n",
       "      <td>-0.014877</td>\n",
       "      <td>3.121932e+07</td>\n",
       "      <td>-0.001085</td>\n",
       "    </tr>\n",
       "  </tbody>\n",
       "</table>\n",
       "</div>"
      ],
      "text/plain": [
       "  company_name     cik  positive  litigious  uncertainty     Volume  \\\n",
       "0         AAPL  320193  1.329951   0.847840     0.111469  179935700   \n",
       "1         MSFT  789019  0.402925   0.214158     1.170386   72848600   \n",
       "2         AAPL  320193  1.236162   0.741241     0.092370  131747600   \n",
       "3         MSFT  789019  0.406596   0.213100     1.191898   46518400   \n",
       "4         AAPL  320193  1.245883   0.745919     0.091766  101786900   \n",
       "5         MSFT  789019  0.486061   0.262336     1.243126   34775500   \n",
       "\n",
       "   daily_returns  volume_mean_x  daily_returns_mean_x   volume_diff  \\\n",
       "0       0.069778   8.791038e+07             -0.001097 -9.202532e+07   \n",
       "1      -0.026588   3.121932e+07             -0.001085 -4.162928e+07   \n",
       "2      -0.036605   8.791038e+07             -0.001097 -4.383722e+07   \n",
       "3      -0.037404   3.121932e+07             -0.001085 -1.529908e+07   \n",
       "4       0.032793   8.791038e+07             -0.001097 -1.387652e+07   \n",
       "5       0.013792   3.121932e+07             -0.001085 -3.556178e+06   \n",
       "\n",
       "   daily_returns_diff  volume_mean_y  daily_returns_mean_y  \n",
       "0           -0.070874   8.791038e+07             -0.001097  \n",
       "1            0.025503   3.121932e+07             -0.001085  \n",
       "2            0.035508   8.791038e+07             -0.001097  \n",
       "3            0.036318   3.121932e+07             -0.001085  \n",
       "4           -0.033890   8.791038e+07             -0.001097  \n",
       "5           -0.014877   3.121932e+07             -0.001085  "
      ]
     },
     "execution_count": 364,
     "metadata": {},
     "output_type": "execute_result"
    }
   ],
   "source": [
    "Text_earnings\n",
    "## This data frame has included some extra columns which are essentially same like\n",
    "## volume_mean_x == volume_mean_y and\n",
    "## daily_returns_mean_x == daily_returns_mean_y that need to be dropped"
   ]
  },
  {
   "cell_type": "code",
   "execution_count": 365,
   "id": "45df2913",
   "metadata": {},
   "outputs": [],
   "source": [
    "##This data frame should include (but has not included )the daily_returns_diff and volime_diff ( their difference from mean ) as important dependent variables for regression\n",
    "Text_earnings = Text_earnings[['company_name','cik','positive','litigious','uncertainty', 'Volume', 'daily_returns']]"
   ]
  },
  {
   "cell_type": "code",
   "execution_count": 366,
   "id": "ad1f8e5b",
   "metadata": {},
   "outputs": [],
   "source": [
    "Text_earnings = pd.merge(Text_earnings, df_stocks_vol_mean, how='left', on='company_name')\n",
    "Text_earnings = pd.merge(Text_earnings, df_stocks_daily_returns_mean, how='left', on='company_name')\n"
   ]
  },
  {
   "cell_type": "code",
   "execution_count": 367,
   "id": "caf5db71",
   "metadata": {},
   "outputs": [],
   "source": [
    "Text_earnings['volume_diff'] = Text_earnings['volume_mean'] - Text_earnings['Volume']\n",
    "Text_earnings['daily_returns_diff'] = Text_earnings['daily_returns_mean'] - Text_earnings['daily_returns']"
   ]
  },
  {
   "cell_type": "code",
   "execution_count": 368,
   "id": "6bb3d3f9",
   "metadata": {},
   "outputs": [
    {
     "data": {
      "text/html": [
       "<div>\n",
       "<style scoped>\n",
       "    .dataframe tbody tr th:only-of-type {\n",
       "        vertical-align: middle;\n",
       "    }\n",
       "\n",
       "    .dataframe tbody tr th {\n",
       "        vertical-align: top;\n",
       "    }\n",
       "\n",
       "    .dataframe thead th {\n",
       "        text-align: right;\n",
       "    }\n",
       "</style>\n",
       "<table border=\"1\" class=\"dataframe\">\n",
       "  <thead>\n",
       "    <tr style=\"text-align: right;\">\n",
       "      <th></th>\n",
       "      <th>company_name</th>\n",
       "      <th>cik</th>\n",
       "      <th>positive</th>\n",
       "      <th>litigious</th>\n",
       "      <th>uncertainty</th>\n",
       "      <th>Volume</th>\n",
       "      <th>daily_returns</th>\n",
       "      <th>volume_mean</th>\n",
       "      <th>daily_returns_mean</th>\n",
       "      <th>volume_diff</th>\n",
       "      <th>daily_returns_diff</th>\n",
       "    </tr>\n",
       "  </thead>\n",
       "  <tbody>\n",
       "    <tr>\n",
       "      <th>0</th>\n",
       "      <td>AAPL</td>\n",
       "      <td>320193</td>\n",
       "      <td>1.329951</td>\n",
       "      <td>0.847840</td>\n",
       "      <td>0.111469</td>\n",
       "      <td>179935700</td>\n",
       "      <td>0.069778</td>\n",
       "      <td>8.791038e+07</td>\n",
       "      <td>-0.001097</td>\n",
       "      <td>-9.202532e+07</td>\n",
       "      <td>-0.070874</td>\n",
       "    </tr>\n",
       "    <tr>\n",
       "      <th>1</th>\n",
       "      <td>MSFT</td>\n",
       "      <td>789019</td>\n",
       "      <td>0.402925</td>\n",
       "      <td>0.214158</td>\n",
       "      <td>1.170386</td>\n",
       "      <td>72848600</td>\n",
       "      <td>-0.026588</td>\n",
       "      <td>3.121932e+07</td>\n",
       "      <td>-0.001085</td>\n",
       "      <td>-4.162928e+07</td>\n",
       "      <td>0.025503</td>\n",
       "    </tr>\n",
       "    <tr>\n",
       "      <th>2</th>\n",
       "      <td>AAPL</td>\n",
       "      <td>320193</td>\n",
       "      <td>1.236162</td>\n",
       "      <td>0.741241</td>\n",
       "      <td>0.092370</td>\n",
       "      <td>131747600</td>\n",
       "      <td>-0.036605</td>\n",
       "      <td>8.791038e+07</td>\n",
       "      <td>-0.001097</td>\n",
       "      <td>-4.383722e+07</td>\n",
       "      <td>0.035508</td>\n",
       "    </tr>\n",
       "    <tr>\n",
       "      <th>3</th>\n",
       "      <td>MSFT</td>\n",
       "      <td>789019</td>\n",
       "      <td>0.406596</td>\n",
       "      <td>0.213100</td>\n",
       "      <td>1.191898</td>\n",
       "      <td>46518400</td>\n",
       "      <td>-0.037404</td>\n",
       "      <td>3.121932e+07</td>\n",
       "      <td>-0.001085</td>\n",
       "      <td>-1.529908e+07</td>\n",
       "      <td>0.036318</td>\n",
       "    </tr>\n",
       "    <tr>\n",
       "      <th>4</th>\n",
       "      <td>AAPL</td>\n",
       "      <td>320193</td>\n",
       "      <td>1.245883</td>\n",
       "      <td>0.745919</td>\n",
       "      <td>0.091766</td>\n",
       "      <td>101786900</td>\n",
       "      <td>0.032793</td>\n",
       "      <td>8.791038e+07</td>\n",
       "      <td>-0.001097</td>\n",
       "      <td>-1.387652e+07</td>\n",
       "      <td>-0.033890</td>\n",
       "    </tr>\n",
       "    <tr>\n",
       "      <th>5</th>\n",
       "      <td>MSFT</td>\n",
       "      <td>789019</td>\n",
       "      <td>0.486061</td>\n",
       "      <td>0.262336</td>\n",
       "      <td>1.243126</td>\n",
       "      <td>34775500</td>\n",
       "      <td>0.013792</td>\n",
       "      <td>3.121932e+07</td>\n",
       "      <td>-0.001085</td>\n",
       "      <td>-3.556178e+06</td>\n",
       "      <td>-0.014877</td>\n",
       "    </tr>\n",
       "  </tbody>\n",
       "</table>\n",
       "</div>"
      ],
      "text/plain": [
       "  company_name     cik  positive  litigious  uncertainty     Volume  \\\n",
       "0         AAPL  320193  1.329951   0.847840     0.111469  179935700   \n",
       "1         MSFT  789019  0.402925   0.214158     1.170386   72848600   \n",
       "2         AAPL  320193  1.236162   0.741241     0.092370  131747600   \n",
       "3         MSFT  789019  0.406596   0.213100     1.191898   46518400   \n",
       "4         AAPL  320193  1.245883   0.745919     0.091766  101786900   \n",
       "5         MSFT  789019  0.486061   0.262336     1.243126   34775500   \n",
       "\n",
       "   daily_returns   volume_mean  daily_returns_mean   volume_diff  \\\n",
       "0       0.069778  8.791038e+07           -0.001097 -9.202532e+07   \n",
       "1      -0.026588  3.121932e+07           -0.001085 -4.162928e+07   \n",
       "2      -0.036605  8.791038e+07           -0.001097 -4.383722e+07   \n",
       "3      -0.037404  3.121932e+07           -0.001085 -1.529908e+07   \n",
       "4       0.032793  8.791038e+07           -0.001097 -1.387652e+07   \n",
       "5       0.013792  3.121932e+07           -0.001085 -3.556178e+06   \n",
       "\n",
       "   daily_returns_diff  \n",
       "0           -0.070874  \n",
       "1            0.025503  \n",
       "2            0.035508  \n",
       "3            0.036318  \n",
       "4           -0.033890  \n",
       "5           -0.014877  "
      ]
     },
     "execution_count": 368,
     "metadata": {},
     "output_type": "execute_result"
    }
   ],
   "source": [
    "## Following dataframe shows sentiments / textual analytics data along with summary stats of daily returns and volume and their difference from mean on the day of 10-Q filings\n",
    "Text_earnings\n",
    "## This data frame should inlcude the Date column ( but has not been captured due to column name mismatch)"
   ]
  },
  {
   "cell_type": "code",
   "execution_count": 369,
   "id": "95704ff4",
   "metadata": {},
   "outputs": [],
   "source": [
    "### Once sentiment analysis is ready then this dataframe should be joined with sentiment of the filing to give holistic picture"
   ]
  },
  {
   "cell_type": "code",
   "execution_count": 370,
   "id": "c233a854",
   "metadata": {},
   "outputs": [],
   "source": [
    "## Regression Analysis - Note we are regressing the daily returns (i.e % change in price daily) as against the Rolling/Total Return\n",
    "## on the 3 parameters for tone - Positve, Litigous and uncertainity.\n",
    "## Overall Tone classification is omitted\n",
    "y1 = Text_earnings['daily_returns'] \n",
    "y2 = Text_earnings['volume_mean']\n",
    "X1 = Text_earnings[['positive', 'litigious', 'uncertainty']]\n",
    "X2 = Text_earnings[['positive', 'litigious']]\n",
    "X3 = Text_earnings[['positive']]\n",
    "X4 = Text_earnings[['litigious', 'uncertainty']]\n",
    "X1 = sm.add_constant(X1)\n",
    "X2 = sm.add_constant(X2)\n",
    "X3 = sm.add_constant(X3)\n",
    "X4 = sm.add_constant(X4)"
   ]
  },
  {
   "cell_type": "code",
   "execution_count": 371,
   "id": "bcc8d4eb",
   "metadata": {},
   "outputs": [],
   "source": [
    "model_1 = sm.OLS(y1, X1)\n",
    "model_2 = sm.OLS(y1, X2)\n",
    "model_3 = sm.OLS(y1, X3)\n",
    "model_4 = sm.OLS(y1, X4)\n",
    "model_5 = sm.OLS(y2, X1)\n",
    "model_6 = sm.OLS(y2, X2)\n",
    "model_7 = sm.OLS(y2, X3)\n",
    "model_8 = sm.OLS(y2, X4)"
   ]
  },
  {
   "cell_type": "code",
   "execution_count": 372,
   "id": "fa5fbe96",
   "metadata": {},
   "outputs": [
    {
     "name": "stdout",
     "output_type": "stream",
     "text": [
      "                            OLS Regression Results                            \n",
      "==============================================================================\n",
      "Dep. Variable:          daily_returns   R-squared:                       0.753\n",
      "Model:                            OLS   Adj. R-squared:                  0.383\n",
      "Method:                 Least Squares   F-statistic:                     2.037\n",
      "Date:                Tue, 09 Jan 2024   Prob (F-statistic):              0.346\n",
      "Time:                        03:23:01   Log-Likelihood:                 15.019\n",
      "No. Observations:                   6   AIC:                            -22.04\n",
      "Df Residuals:                       2   BIC:                            -22.87\n",
      "Df Model:                           3                                         \n",
      "Covariance Type:            nonrobust                                         \n",
      "===============================================================================\n",
      "                  coef    std err          t      P>|t|      [0.025      0.975]\n",
      "-------------------------------------------------------------------------------\n",
      "const          -0.4972      0.436     -1.139      0.373      -2.375       1.380\n",
      "positive        0.0036      0.899      0.004      0.997      -3.863       3.870\n",
      "litigious       0.6260      1.072      0.584      0.618      -3.988       5.240\n",
      "uncertainty     0.2787      0.228      1.220      0.347      -0.704       1.262\n",
      "==============================================================================\n",
      "Omnibus:                          nan   Durbin-Watson:                   2.287\n",
      "Prob(Omnibus):                    nan   Jarque-Bera (JB):                0.027\n",
      "Skew:                          -0.038   Prob(JB):                        0.986\n",
      "Kurtosis:                       2.678   Cond. No.                         159.\n",
      "==============================================================================\n",
      "\n",
      "Notes:\n",
      "[1] Standard Errors assume that the covariance matrix of the errors is correctly specified.\n"
     ]
    },
    {
     "name": "stderr",
     "output_type": "stream",
     "text": [
      "/Users/kapildevarsh/anaconda3/lib/python3.11/site-packages/statsmodels/stats/stattools.py:74: ValueWarning: omni_normtest is not valid with less than 8 observations; 6 samples were given.\n",
      "  warn(\"omni_normtest is not valid with less than 8 observations; %i \"\n"
     ]
    }
   ],
   "source": [
    "results1 = model_1.fit()\n",
    "print(results1.summary())"
   ]
  },
  {
   "cell_type": "code",
   "execution_count": 373,
   "id": "2af92e30",
   "metadata": {},
   "outputs": [
    {
     "name": "stdout",
     "output_type": "stream",
     "text": [
      "                            OLS Regression Results                            \n",
      "==============================================================================\n",
      "Dep. Variable:          daily_returns   R-squared:                       0.570\n",
      "Model:                            OLS   Adj. R-squared:                  0.283\n",
      "Method:                 Least Squares   F-statistic:                     1.988\n",
      "Date:                Tue, 09 Jan 2024   Prob (F-statistic):              0.282\n",
      "Time:                        03:23:02   Log-Likelihood:                 13.350\n",
      "No. Observations:                   6   AIC:                            -20.70\n",
      "Df Residuals:                       3   BIC:                            -21.32\n",
      "Df Model:                           2                                         \n",
      "Covariance Type:            nonrobust                                         \n",
      "==============================================================================\n",
      "                 coef    std err          t      P>|t|      [0.025      0.975]\n",
      "------------------------------------------------------------------------------\n",
      "const          0.0303      0.063      0.479      0.665      -0.171       0.231\n",
      "positive      -0.8173      0.642     -1.273      0.293      -2.861       1.226\n",
      "litigious      1.3254      0.977      1.356      0.268      -1.784       4.435\n",
      "==============================================================================\n",
      "Omnibus:                          nan   Durbin-Watson:                   0.953\n",
      "Prob(Omnibus):                    nan   Jarque-Bera (JB):                0.442\n",
      "Skew:                           0.033   Prob(JB):                        0.802\n",
      "Kurtosis:                       1.672   Cond. No.                         113.\n",
      "==============================================================================\n",
      "\n",
      "Notes:\n",
      "[1] Standard Errors assume that the covariance matrix of the errors is correctly specified.\n"
     ]
    },
    {
     "name": "stderr",
     "output_type": "stream",
     "text": [
      "/Users/kapildevarsh/anaconda3/lib/python3.11/site-packages/statsmodels/stats/stattools.py:74: ValueWarning: omni_normtest is not valid with less than 8 observations; 6 samples were given.\n",
      "  warn(\"omni_normtest is not valid with less than 8 observations; %i \"\n"
     ]
    }
   ],
   "source": [
    "results2 = model_2.fit()\n",
    "print(results2.summary())"
   ]
  },
  {
   "cell_type": "code",
   "execution_count": 374,
   "id": "b975ec33",
   "metadata": {},
   "outputs": [
    {
     "name": "stdout",
     "output_type": "stream",
     "text": [
      "                            OLS Regression Results                            \n",
      "==============================================================================\n",
      "Dep. Variable:          daily_returns   R-squared:                       0.306\n",
      "Model:                            OLS   Adj. R-squared:                  0.133\n",
      "Method:                 Least Squares   F-statistic:                     1.765\n",
      "Date:                Tue, 09 Jan 2024   Prob (F-statistic):              0.255\n",
      "Time:                        03:23:03   Log-Likelihood:                 11.915\n",
      "No. Observations:                   6   AIC:                            -19.83\n",
      "Df Residuals:                       4   BIC:                            -20.25\n",
      "Df Model:                           1                                         \n",
      "Covariance Type:            nonrobust                                         \n",
      "==============================================================================\n",
      "                 coef    std err          t      P>|t|      [0.025      0.975]\n",
      "------------------------------------------------------------------------------\n",
      "const         -0.0419      0.037     -1.120      0.325      -0.146       0.062\n",
      "positive       0.0524      0.039      1.328      0.255      -0.057       0.162\n",
      "==============================================================================\n",
      "Omnibus:                          nan   Durbin-Watson:                   1.224\n",
      "Prob(Omnibus):                    nan   Jarque-Bera (JB):                0.392\n",
      "Skew:                          -0.506   Prob(JB):                        0.822\n",
      "Kurtosis:                       2.260   Cond. No.                         4.28\n",
      "==============================================================================\n",
      "\n",
      "Notes:\n",
      "[1] Standard Errors assume that the covariance matrix of the errors is correctly specified.\n"
     ]
    },
    {
     "name": "stderr",
     "output_type": "stream",
     "text": [
      "/Users/kapildevarsh/anaconda3/lib/python3.11/site-packages/statsmodels/stats/stattools.py:74: ValueWarning: omni_normtest is not valid with less than 8 observations; 6 samples were given.\n",
      "  warn(\"omni_normtest is not valid with less than 8 observations; %i \"\n"
     ]
    }
   ],
   "source": [
    "results3 = model_3.fit()\n",
    "print(results3.summary())"
   ]
  },
  {
   "cell_type": "code",
   "execution_count": 375,
   "id": "95aad03f",
   "metadata": {},
   "outputs": [
    {
     "name": "stdout",
     "output_type": "stream",
     "text": [
      "                            OLS Regression Results                            \n",
      "==============================================================================\n",
      "Dep. Variable:          daily_returns   R-squared:                       0.753\n",
      "Model:                            OLS   Adj. R-squared:                  0.589\n",
      "Method:                 Least Squares   F-statistic:                     4.582\n",
      "Date:                Tue, 09 Jan 2024   Prob (F-statistic):              0.122\n",
      "Time:                        03:23:04   Log-Likelihood:                 15.019\n",
      "No. Observations:                   6   AIC:                            -24.04\n",
      "Df Residuals:                       3   BIC:                            -24.66\n",
      "Df Model:                           2                                         \n",
      "Covariance Type:            nonrobust                                         \n",
      "===============================================================================\n",
      "                  coef    std err          t      P>|t|      [0.025      0.975]\n",
      "-------------------------------------------------------------------------------\n",
      "const          -0.4958      0.204     -2.427      0.094      -1.146       0.154\n",
      "litigious       0.6301      0.246      2.557      0.083      -0.154       1.414\n",
      "uncertainty     0.2780      0.124      2.249      0.110      -0.115       0.671\n",
      "==============================================================================\n",
      "Omnibus:                          nan   Durbin-Watson:                   2.284\n",
      "Prob(Omnibus):                    nan   Jarque-Bera (JB):                0.027\n",
      "Skew:                          -0.034   Prob(JB):                        0.987\n",
      "Kurtosis:                       2.680   Cond. No.                         39.2\n",
      "==============================================================================\n",
      "\n",
      "Notes:\n",
      "[1] Standard Errors assume that the covariance matrix of the errors is correctly specified.\n"
     ]
    },
    {
     "name": "stderr",
     "output_type": "stream",
     "text": [
      "/Users/kapildevarsh/anaconda3/lib/python3.11/site-packages/statsmodels/stats/stattools.py:74: ValueWarning: omni_normtest is not valid with less than 8 observations; 6 samples were given.\n",
      "  warn(\"omni_normtest is not valid with less than 8 observations; %i \"\n"
     ]
    }
   ],
   "source": [
    "results4 = model_4.fit()\n",
    "print(results4.summary())"
   ]
  },
  {
   "cell_type": "code",
   "execution_count": 376,
   "id": "90beddf6",
   "metadata": {},
   "outputs": [
    {
     "name": "stdout",
     "output_type": "stream",
     "text": [
      "                            OLS Regression Results                            \n",
      "==============================================================================\n",
      "Dep. Variable:            volume_mean   R-squared:                       1.000\n",
      "Model:                            OLS   Adj. R-squared:                  1.000\n",
      "Method:                 Least Squares   F-statistic:                 1.789e+04\n",
      "Date:                Tue, 09 Jan 2024   Prob (F-statistic):           5.59e-05\n",
      "Time:                        03:23:04   Log-Likelihood:                -80.882\n",
      "No. Observations:                   6   AIC:                             169.8\n",
      "Df Residuals:                       2   BIC:                             168.9\n",
      "Df Model:                           3                                         \n",
      "Covariance Type:            nonrobust                                         \n",
      "===============================================================================\n",
      "                  coef    std err          t      P>|t|      [0.025      0.975]\n",
      "-------------------------------------------------------------------------------\n",
      "const        5.884e+07   3.81e+06     15.428      0.004    4.24e+07    7.52e+07\n",
      "positive     4.558e+07   7.85e+06      5.803      0.028    1.18e+07    7.94e+07\n",
      "litigious   -3.286e+07   9.37e+06     -3.507      0.073   -7.32e+07    7.46e+06\n",
      "uncertainty -3.307e+07      2e+06    -16.563      0.004   -4.17e+07   -2.45e+07\n",
      "==============================================================================\n",
      "Omnibus:                          nan   Durbin-Watson:                   2.376\n",
      "Prob(Omnibus):                    nan   Jarque-Bera (JB):                0.387\n",
      "Skew:                           0.196   Prob(JB):                        0.824\n",
      "Kurtosis:                       1.820   Cond. No.                         159.\n",
      "==============================================================================\n",
      "\n",
      "Notes:\n",
      "[1] Standard Errors assume that the covariance matrix of the errors is correctly specified.\n"
     ]
    },
    {
     "name": "stderr",
     "output_type": "stream",
     "text": [
      "/Users/kapildevarsh/anaconda3/lib/python3.11/site-packages/statsmodels/stats/stattools.py:74: ValueWarning: omni_normtest is not valid with less than 8 observations; 6 samples were given.\n",
      "  warn(\"omni_normtest is not valid with less than 8 observations; %i \"\n"
     ]
    }
   ],
   "source": [
    "results5 = model_5.fit()\n",
    "print(results5.summary())"
   ]
  },
  {
   "cell_type": "code",
   "execution_count": 377,
   "id": "7c230372",
   "metadata": {},
   "outputs": [
    {
     "name": "stdout",
     "output_type": "stream",
     "text": [
      "                            OLS Regression Results                            \n",
      "==============================================================================\n",
      "Dep. Variable:            volume_mean   R-squared:                       0.995\n",
      "Model:                            OLS   Adj. R-squared:                  0.991\n",
      "Method:                 Least Squares   F-statistic:                     289.8\n",
      "Date:                Tue, 09 Jan 2024   Prob (F-statistic):           0.000370\n",
      "Time:                        03:23:06   Log-Likelihood:                -95.667\n",
      "No. Observations:                   6   AIC:                             197.3\n",
      "Df Residuals:                       3   BIC:                             196.7\n",
      "Df Model:                           2                                         \n",
      "Covariance Type:            nonrobust                                         \n",
      "==============================================================================\n",
      "                 coef    std err          t      P>|t|      [0.025      0.975]\n",
      "------------------------------------------------------------------------------\n",
      "const      -3.756e+06   4.92e+06     -0.764      0.500   -1.94e+07    1.19e+07\n",
      "positive     1.43e+08      5e+07      2.862      0.064    -1.6e+07    3.02e+08\n",
      "litigious  -1.159e+08    7.6e+07     -1.524      0.225   -3.58e+08    1.26e+08\n",
      "==============================================================================\n",
      "Omnibus:                          nan   Durbin-Watson:                   1.110\n",
      "Prob(Omnibus):                    nan   Jarque-Bera (JB):                1.251\n",
      "Skew:                          -1.117   Prob(JB):                        0.535\n",
      "Kurtosis:                       3.117   Cond. No.                         113.\n",
      "==============================================================================\n",
      "\n",
      "Notes:\n",
      "[1] Standard Errors assume that the covariance matrix of the errors is correctly specified.\n"
     ]
    },
    {
     "name": "stderr",
     "output_type": "stream",
     "text": [
      "/Users/kapildevarsh/anaconda3/lib/python3.11/site-packages/statsmodels/stats/stattools.py:74: ValueWarning: omni_normtest is not valid with less than 8 observations; 6 samples were given.\n",
      "  warn(\"omni_normtest is not valid with less than 8 observations; %i \"\n"
     ]
    }
   ],
   "source": [
    "results6 = model_6.fit()\n",
    "print(results6.summary())"
   ]
  },
  {
   "cell_type": "code",
   "execution_count": 352,
   "id": "efc0c0e3",
   "metadata": {},
   "outputs": [
    {
     "name": "stdout",
     "output_type": "stream",
     "text": [
      "                            OLS Regression Results                            \n",
      "==============================================================================\n",
      "Dep. Variable:            volume_mean   R-squared:                       0.991\n",
      "Model:                            OLS   Adj. R-squared:                  0.989\n",
      "Method:                 Least Squares   F-statistic:                     433.7\n",
      "Date:                Tue, 09 Jan 2024   Prob (F-statistic):           3.14e-05\n",
      "Time:                        03:17:15   Log-Likelihood:                -97.387\n",
      "No. Observations:                   6   AIC:                             198.8\n",
      "Df Residuals:                       4   BIC:                             198.4\n",
      "Df Model:                           1                                         \n",
      "Covariance Type:            nonrobust                                         \n",
      "==============================================================================\n",
      "                 coef    std err          t      P>|t|      [0.025      0.975]\n",
      "------------------------------------------------------------------------------\n",
      "const       2.558e+06   3.05e+06      0.837      0.449   -5.92e+06     1.1e+07\n",
      "positive    6.697e+07   3.22e+06     20.827      0.000     5.8e+07    7.59e+07\n",
      "==============================================================================\n",
      "Omnibus:                          nan   Durbin-Watson:                   1.478\n",
      "Prob(Omnibus):                    nan   Jarque-Bera (JB):                0.986\n",
      "Skew:                          -0.655   Prob(JB):                        0.611\n",
      "Kurtosis:                       1.508   Cond. No.                         4.28\n",
      "==============================================================================\n",
      "\n",
      "Notes:\n",
      "[1] Standard Errors assume that the covariance matrix of the errors is correctly specified.\n"
     ]
    },
    {
     "name": "stderr",
     "output_type": "stream",
     "text": [
      "/Users/kapildevarsh/anaconda3/lib/python3.11/site-packages/statsmodels/stats/stattools.py:74: ValueWarning: omni_normtest is not valid with less than 8 observations; 6 samples were given.\n",
      "  warn(\"omni_normtest is not valid with less than 8 observations; %i \"\n"
     ]
    }
   ],
   "source": [
    "results7 = model_7.fit()\n",
    "print(results7.summary())"
   ]
  },
  {
   "cell_type": "code",
   "execution_count": 353,
   "id": "7b13d8c4",
   "metadata": {},
   "outputs": [
    {
     "name": "stdout",
     "output_type": "stream",
     "text": [
      "                            OLS Regression Results                            \n",
      "==============================================================================\n",
      "Dep. Variable:            volume_mean   R-squared:                       0.999\n",
      "Model:                            OLS   Adj. R-squared:                  0.999\n",
      "Method:                 Least Squares   F-statistic:                     2255.\n",
      "Date:                Tue, 09 Jan 2024   Prob (F-statistic):           1.71e-05\n",
      "Time:                        03:17:16   Log-Likelihood:                -89.526\n",
      "No. Observations:                   6   AIC:                             185.1\n",
      "Df Residuals:                       3   BIC:                             184.4\n",
      "Df Model:                           2                                         \n",
      "Covariance Type:            nonrobust                                         \n",
      "===============================================================================\n",
      "                  coef    std err          t      P>|t|      [0.025      0.975]\n",
      "-------------------------------------------------------------------------------\n",
      "const        7.697e+07   7.54e+06     10.209      0.002     5.3e+07    1.01e+08\n",
      "litigious    1.932e+07    9.1e+06      2.124      0.124   -9.63e+06    4.83e+07\n",
      "uncertainty -4.175e+07   4.56e+06     -9.149      0.003   -5.63e+07   -2.72e+07\n",
      "==============================================================================\n",
      "Omnibus:                          nan   Durbin-Watson:                   1.062\n",
      "Prob(Omnibus):                    nan   Jarque-Bera (JB):                0.425\n",
      "Skew:                          -0.066   Prob(JB):                        0.808\n",
      "Kurtosis:                       1.702   Cond. No.                         39.2\n",
      "==============================================================================\n",
      "\n",
      "Notes:\n",
      "[1] Standard Errors assume that the covariance matrix of the errors is correctly specified.\n"
     ]
    },
    {
     "name": "stderr",
     "output_type": "stream",
     "text": [
      "/Users/kapildevarsh/anaconda3/lib/python3.11/site-packages/statsmodels/stats/stattools.py:74: ValueWarning: omni_normtest is not valid with less than 8 observations; 6 samples were given.\n",
      "  warn(\"omni_normtest is not valid with less than 8 observations; %i \"\n"
     ]
    }
   ],
   "source": [
    "results8 = model_8.fit()\n",
    "print(results8.summary())"
   ]
  },
  {
   "cell_type": "code",
   "execution_count": 354,
   "id": "fa1343ed",
   "metadata": {},
   "outputs": [
    {
     "data": {
      "image/png": "[encoded data removed]",
      "text/plain": [
       "<Figure size 640x480 with 1 Axes>"
      ]
     },
     "metadata": {},
     "output_type": "display_data"
    }
   ],
   "source": [
    "## This graph shows that no feasable / interpretable relation could be determined from the \n",
    "#regression for Model 4\n",
    "yhat = results4.predict(X4)\n",
    "\n",
    "plt.figure()\n",
    "plt.plot(X4, y1, 'b.')\n",
    "plt.plot(X4, yhat, 'r')\n",
    "plt.show()\n"
   ]
  },
  {
   "cell_type": "code",
   "execution_count": 355,
   "id": "c88051d8",
   "metadata": {},
   "outputs": [],
   "source": [
    "## Test the correlation between X1,X2,X3"
   ]
  },
  {
   "cell_type": "code",
   "execution_count": 216,
   "id": "de778b55",
   "metadata": {},
   "outputs": [],
   "source": [
    "grouped = Text_earnings.groupby('company_name')"
   ]
  },
  {
   "cell_type": "code",
   "execution_count": 217,
   "id": "52f6cec6",
   "metadata": {},
   "outputs": [],
   "source": [
    "d1 = grouped.get_group('AAPL')\n",
    "d2 = grouped.get_group('MSFT')"
   ]
  },
  {
   "cell_type": "code",
   "execution_count": 218,
   "id": "4108e5e1",
   "metadata": {},
   "outputs": [],
   "source": [
    "M1 = np.array([d1['positive'], d1['litigious'], d1['uncertainty']])\n",
    "M2 = np.array([d2['positive'], d2['litigious'], d2['uncertainty']])"
   ]
  },
  {
   "cell_type": "code",
   "execution_count": 219,
   "id": "0e12ee47",
   "metadata": {},
   "outputs": [],
   "source": [
    "corr_matrix1 = np.corrcoef(M1)\n",
    "corr_matrix2= np.corrcoef(M2)"
   ]
  },
  {
   "cell_type": "code",
   "execution_count": 220,
   "id": "d02a0731",
   "metadata": {},
   "outputs": [
    {
     "name": "stdout",
     "output_type": "stream",
     "text": [
      "[[1.         0.99845766 0.99264515]\n",
      " [0.99845766 1.         0.99783524]\n",
      " [0.99264515 0.99783524 1.        ]]\n"
     ]
    }
   ],
   "source": [
    "print(corr_matrix1)"
   ]
  },
  {
   "cell_type": "code",
   "execution_count": 221,
   "id": "bf6974b7",
   "metadata": {},
   "outputs": [
    {
     "name": "stdout",
     "output_type": "stream",
     "text": [
      "[[1.         0.99832417 0.96819445]\n",
      " [0.99832417 1.         0.95209308]\n",
      " [0.96819445 0.95209308 1.        ]]\n"
     ]
    }
   ],
   "source": [
    "print(corr_matrix2)"
   ]
  },
  {
   "cell_type": "code",
   "execution_count": null,
   "id": "7e3a3b0f",
   "metadata": {},
   "outputs": [],
   "source": []
  }
 ],
 "metadata": {
  "kernelspec": {
   "display_name": "Python 3 (ipykernel)",
   "language": "python",
   "name": "python3"
  },
  "language_info": {
   "codemirror_mode": {
    "name": "ipython",
    "version": 3
   },
   "file_extension": ".py",
   "mimetype": "text/x-python",
   "name": "python",
   "nbconvert_exporter": "python",
   "pygments_lexer": "ipython3",
   "version": "3.11.4"
  }
 },
 "nbformat": 4,
 "nbformat_minor": 5
}
